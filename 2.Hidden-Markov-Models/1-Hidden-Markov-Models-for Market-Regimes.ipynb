{
 "cells": [
  {
   "cell_type": "code",
   "execution_count": 8,
   "id": "afe0ea64-8980-4e5b-9969-46fb92184169",
   "metadata": {},
   "outputs": [],
   "source": [
    "import pandas as pd\n",
    "import numpy as np\n",
    "import yfinance as yf\n",
    "from pyhhmm.gaussian import GaussianHMM"
   ]
  },
  {
   "cell_type": "code",
   "execution_count": 35,
   "id": "d648adc4-8598-49cf-9da9-2608ce702427",
   "metadata": {},
   "outputs": [],
   "source": [
    "import matplotlib.pyplot as plt"
   ]
  },
  {
   "cell_type": "code",
   "execution_count": 9,
   "id": "b0a8d103-7972-4ad3-9d39-543146870dbb",
   "metadata": {},
   "outputs": [],
   "source": [
    "from pandas_datareader import data as pdr"
   ]
  },
  {
   "cell_type": "code",
   "execution_count": 10,
   "id": "021d255a-58ae-4203-8961-7bd8c7b0349e",
   "metadata": {},
   "outputs": [],
   "source": [
    "yf.pdr_override()"
   ]
  },
  {
   "cell_type": "markdown",
   "id": "fc821800-2dda-4a65-b51f-8895a9073e4e",
   "metadata": {},
   "source": [
    "# Data Management"
   ]
  },
  {
   "cell_type": "code",
   "execution_count": 40,
   "id": "186a4bee-7438-42e1-8f97-17c77d96cc25",
   "metadata": {},
   "outputs": [],
   "source": [
    "start_date = '2020-01-01'\n",
    "end_data = '2024-04-01'\n",
    "symbol = 'SPY'"
   ]
  },
  {
   "cell_type": "code",
   "execution_count": 41,
   "id": "b134618c-f0a1-4841-b7e2-5d5ea8be619b",
   "metadata": {},
   "outputs": [
    {
     "name": "stdout",
     "output_type": "stream",
     "text": [
      "[*********************100%%**********************]  1 of 1 completed\n"
     ]
    }
   ],
   "source": [
    "data = pdr.get_data_yahoo(symbol, start = start_date,end = end_data)"
   ]
  },
  {
   "cell_type": "code",
   "execution_count": 42,
   "id": "770398a7-34f9-4030-bae3-8bf9bebe2703",
   "metadata": {},
   "outputs": [
    {
     "data": {
      "text/plain": [
       "(1067, 6)"
      ]
     },
     "execution_count": 42,
     "metadata": {},
     "output_type": "execute_result"
    }
   ],
   "source": [
    "data.shape"
   ]
  },
  {
   "cell_type": "code",
   "execution_count": 43,
   "id": "f69c55c1-0a59-4807-8c6d-a4f97917c594",
   "metadata": {},
   "outputs": [],
   "source": [
    "data=data[['Open','High','Low','Adj Close','Volume']]"
   ]
  },
  {
   "cell_type": "code",
   "execution_count": 44,
   "id": "458476a1-9772-49a5-8111-04c0b7921c4c",
   "metadata": {},
   "outputs": [
    {
     "data": {
      "text/html": [
       "<div>\n",
       "<style scoped>\n",
       "    .dataframe tbody tr th:only-of-type {\n",
       "        vertical-align: middle;\n",
       "    }\n",
       "\n",
       "    .dataframe tbody tr th {\n",
       "        vertical-align: top;\n",
       "    }\n",
       "\n",
       "    .dataframe thead th {\n",
       "        text-align: right;\n",
       "    }\n",
       "</style>\n",
       "<table border=\"1\" class=\"dataframe\">\n",
       "  <thead>\n",
       "    <tr style=\"text-align: right;\">\n",
       "      <th></th>\n",
       "      <th>Open</th>\n",
       "      <th>High</th>\n",
       "      <th>Low</th>\n",
       "      <th>Adj Close</th>\n",
       "      <th>Volume</th>\n",
       "      <th>Returns</th>\n",
       "      <th>Range</th>\n",
       "    </tr>\n",
       "    <tr>\n",
       "      <th>Date</th>\n",
       "      <th></th>\n",
       "      <th></th>\n",
       "      <th></th>\n",
       "      <th></th>\n",
       "      <th></th>\n",
       "      <th></th>\n",
       "      <th></th>\n",
       "    </tr>\n",
       "  </thead>\n",
       "  <tbody>\n",
       "    <tr>\n",
       "      <th>2020-01-03</th>\n",
       "      <td>321.160004</td>\n",
       "      <td>323.640015</td>\n",
       "      <td>321.100006</td>\n",
       "      <td>301.810760</td>\n",
       "      <td>77709700</td>\n",
       "      <td>-0.007572</td>\n",
       "      <td>0.007910</td>\n",
       "    </tr>\n",
       "    <tr>\n",
       "      <th>2020-01-06</th>\n",
       "      <td>320.489990</td>\n",
       "      <td>323.730011</td>\n",
       "      <td>320.359985</td>\n",
       "      <td>302.962219</td>\n",
       "      <td>55653900</td>\n",
       "      <td>0.003815</td>\n",
       "      <td>0.010519</td>\n",
       "    </tr>\n",
       "    <tr>\n",
       "      <th>2020-01-07</th>\n",
       "      <td>323.019989</td>\n",
       "      <td>323.540009</td>\n",
       "      <td>322.239990</td>\n",
       "      <td>302.110260</td>\n",
       "      <td>40496400</td>\n",
       "      <td>-0.002812</td>\n",
       "      <td>0.004034</td>\n",
       "    </tr>\n",
       "    <tr>\n",
       "      <th>2020-01-08</th>\n",
       "      <td>322.940002</td>\n",
       "      <td>325.779999</td>\n",
       "      <td>322.670013</td>\n",
       "      <td>303.720398</td>\n",
       "      <td>68296000</td>\n",
       "      <td>0.005330</td>\n",
       "      <td>0.009638</td>\n",
       "    </tr>\n",
       "    <tr>\n",
       "      <th>2020-01-09</th>\n",
       "      <td>326.160004</td>\n",
       "      <td>326.730011</td>\n",
       "      <td>325.519989</td>\n",
       "      <td>305.779785</td>\n",
       "      <td>48473300</td>\n",
       "      <td>0.006781</td>\n",
       "      <td>0.003717</td>\n",
       "    </tr>\n",
       "  </tbody>\n",
       "</table>\n",
       "</div>"
      ],
      "text/plain": [
       "                  Open        High         Low   Adj Close    Volume   \n",
       "Date                                                                   \n",
       "2020-01-03  321.160004  323.640015  321.100006  301.810760  77709700  \\\n",
       "2020-01-06  320.489990  323.730011  320.359985  302.962219  55653900   \n",
       "2020-01-07  323.019989  323.540009  322.239990  302.110260  40496400   \n",
       "2020-01-08  322.940002  325.779999  322.670013  303.720398  68296000   \n",
       "2020-01-09  326.160004  326.730011  325.519989  305.779785  48473300   \n",
       "\n",
       "             Returns     Range  \n",
       "Date                            \n",
       "2020-01-03 -0.007572  0.007910  \n",
       "2020-01-06  0.003815  0.010519  \n",
       "2020-01-07 -0.002812  0.004034  \n",
       "2020-01-08  0.005330  0.009638  \n",
       "2020-01-09  0.006781  0.003717  "
      ]
     },
     "execution_count": 44,
     "metadata": {},
     "output_type": "execute_result"
    }
   ],
   "source": [
    "# Add Returns and Range\n",
    "df = data.copy()\n",
    "df['Returns'] = (df['Adj Close']/df['Adj Close'].shift(1)) - 1\n",
    "df['Range'] = (df['High']/df['Low']) - 1\n",
    "df.dropna(inplace = True)\n",
    "df.head()"
   ]
  },
  {
   "cell_type": "code",
   "execution_count": 45,
   "id": "b97482bd-844d-454d-abe2-8e8cfe98af32",
   "metadata": {},
   "outputs": [
    {
     "data": {
      "text/html": [
       "<div>\n",
       "<style scoped>\n",
       "    .dataframe tbody tr th:only-of-type {\n",
       "        vertical-align: middle;\n",
       "    }\n",
       "\n",
       "    .dataframe tbody tr th {\n",
       "        vertical-align: top;\n",
       "    }\n",
       "\n",
       "    .dataframe thead th {\n",
       "        text-align: right;\n",
       "    }\n",
       "</style>\n",
       "<table border=\"1\" class=\"dataframe\">\n",
       "  <thead>\n",
       "    <tr style=\"text-align: right;\">\n",
       "      <th></th>\n",
       "      <th>Returns</th>\n",
       "      <th>Range</th>\n",
       "    </tr>\n",
       "    <tr>\n",
       "      <th>Date</th>\n",
       "      <th></th>\n",
       "      <th></th>\n",
       "    </tr>\n",
       "  </thead>\n",
       "  <tbody>\n",
       "    <tr>\n",
       "      <th>2020-01-03</th>\n",
       "      <td>-0.007572</td>\n",
       "      <td>0.007910</td>\n",
       "    </tr>\n",
       "    <tr>\n",
       "      <th>2020-01-06</th>\n",
       "      <td>0.003815</td>\n",
       "      <td>0.010519</td>\n",
       "    </tr>\n",
       "    <tr>\n",
       "      <th>2020-01-07</th>\n",
       "      <td>-0.002812</td>\n",
       "      <td>0.004034</td>\n",
       "    </tr>\n",
       "    <tr>\n",
       "      <th>2020-01-08</th>\n",
       "      <td>0.005330</td>\n",
       "      <td>0.009638</td>\n",
       "    </tr>\n",
       "    <tr>\n",
       "      <th>2020-01-09</th>\n",
       "      <td>0.006781</td>\n",
       "      <td>0.003717</td>\n",
       "    </tr>\n",
       "  </tbody>\n",
       "</table>\n",
       "</div>"
      ],
      "text/plain": [
       "             Returns     Range\n",
       "Date                          \n",
       "2020-01-03 -0.007572  0.007910\n",
       "2020-01-06  0.003815  0.010519\n",
       "2020-01-07 -0.002812  0.004034\n",
       "2020-01-08  0.005330  0.009638\n",
       "2020-01-09  0.006781  0.003717"
      ]
     },
     "execution_count": 45,
     "metadata": {},
     "output_type": "execute_result"
    }
   ],
   "source": [
    "#Structire Data\n",
    "X_train = df[['Returns','Range']]\n",
    "X_train.head()"
   ]
  },
  {
   "cell_type": "markdown",
   "id": "274a2cd6-7f8e-4bf4-a020-6a1cefa54655",
   "metadata": {},
   "source": [
    "### HMM Learning"
   ]
  },
  {
   "cell_type": "code",
   "execution_count": 46,
   "id": "9e9b0eba-408f-424f-8686-6e6b3bfc6355",
   "metadata": {},
   "outputs": [
    {
     "name": "stderr",
     "output_type": "stream",
     "text": [
      "/opt/miniconda3/lib/python3.8/site-packages/sklearn/cluster/_kmeans.py:870: FutureWarning: The default value of `n_init` will change from 10 to 'auto' in 1.4. Set the value of `n_init` explicitly to suppress the warning\n",
      "  warnings.warn(\n"
     ]
    },
    {
     "data": {
      "text/plain": [
       "(<pyhhmm.gaussian.GaussianHMM at 0x7fad8efaf280>, 7171.601272711525)"
      ]
     },
     "execution_count": 46,
     "metadata": {},
     "output_type": "execute_result"
    }
   ],
   "source": [
    "#Train Model\n",
    "model = GaussianHMM(n_states = 4, covariance_type = 'full', n_emissions = 2)\n",
    "model.train([np.array(X_train.values)])"
   ]
  },
  {
   "cell_type": "code",
   "execution_count": 47,
   "id": "d69c8cd6-8071-4aca-bd13-198e65660b90",
   "metadata": {},
   "outputs": [
    {
     "name": "stdout",
     "output_type": "stream",
     "text": [
      "[3 3 3 3 3 3 3 3 3 3 3 3 3 3 3 3 3 3 3 0 3 3 3 3 3 3 3 3 3 3 3 3 3 0 1 1 0\n",
      " 1 1 2]\n"
     ]
    }
   ],
   "source": [
    "#Check Results\n",
    "hidden_states = model.predict([X_train.values])[0]\n",
    "print(hidden_states[:40])"
   ]
  },
  {
   "cell_type": "code",
   "execution_count": 48,
   "id": "c6ecc4a8-9473-4daf-b7b5-ec1329c0f4db",
   "metadata": {},
   "outputs": [
    {
     "data": {
      "text/plain": [
       "1066"
      ]
     },
     "execution_count": 48,
     "metadata": {},
     "output_type": "execute_result"
    }
   ],
   "source": [
    "len(hidden_states)"
   ]
  },
  {
   "cell_type": "code",
   "execution_count": 49,
   "id": "ac599fd2-e610-4fad-870c-3d1343549de0",
   "metadata": {},
   "outputs": [
    {
     "data": {
      "text/plain": [
       "array([[-0.00348953,  0.02003506],\n",
       "       [-0.01324563,  0.03450791],\n",
       "       [ 0.02851986,  0.0354698 ],\n",
       "       [ 0.00234058,  0.00959102]])"
      ]
     },
     "execution_count": 49,
     "metadata": {},
     "output_type": "execute_result"
    }
   ],
   "source": [
    "#Regime state means for each feature\n",
    "model.means"
   ]
  },
  {
   "cell_type": "code",
   "execution_count": 50,
   "id": "cb053e03-ac7f-4d37-9d1d-cb7595468b63",
   "metadata": {},
   "outputs": [
    {
     "data": {
      "text/plain": [
       "array([[[ 2.47776246e-04,  4.54388707e-05],\n",
       "        [ 4.54388707e-05,  9.24833242e-05]],\n",
       "\n",
       "       [[ 1.11600373e-03, -6.93605452e-05],\n",
       "        [-6.93605452e-05,  4.06555787e-04]],\n",
       "\n",
       "       [[ 9.87823271e-04,  9.46438226e-04],\n",
       "        [ 9.46438226e-04,  9.90293139e-04]],\n",
       "\n",
       "       [[ 6.84224794e-05,  1.87466674e-05],\n",
       "        [ 1.87466674e-05,  3.06171622e-05]]])"
      ]
     },
     "execution_count": 50,
     "metadata": {},
     "output_type": "execute_result"
    }
   ],
   "source": [
    "#Regime state covars for each feature\n",
    "model.covars"
   ]
  },
  {
   "cell_type": "markdown",
   "id": "345cc0eb-3e14-47c2-9470-d69889fa6489",
   "metadata": {},
   "source": [
    "### Data Visualization"
   ]
  },
  {
   "cell_type": "code",
   "execution_count": 51,
   "id": "5acfdb14-7e36-479b-aff6-5313748dc8fb",
   "metadata": {},
   "outputs": [],
   "source": [
    "# Structure the prices for plotting\n",
    "i = 0 \n",
    "labels_0 = []\n",
    "labels_1 = []\n",
    "labels_2 = []\n",
    "labels_3 = []\n",
    "prices = df['Adj Close'].values.astype(float)\n",
    "\n",
    "for s in hidden_states:\n",
    "    if s==0:\n",
    "        labels_0.append(prices[i])\n",
    "        labels_1.append(float('nan'))\n",
    "        labels_2.append(float('nan'))\n",
    "        labels_3.append(float('nan'))\n",
    "    if s==1:\n",
    "        labels_0.append(float('nan'))\n",
    "        labels_1.append(prices[i])\n",
    "        labels_2.append(float('nan'))\n",
    "        labels_3.append(float('nan'))\n",
    "    if s==2:\n",
    "        labels_0.append(float('nan'))\n",
    "        labels_1.append(float('nan'))\n",
    "        labels_2.append(prices[i])\n",
    "        labels_3.append(float('nan'))\n",
    "    if s==3:\n",
    "        labels_0.append(float('nan'))\n",
    "        labels_1.append(float('nan'))\n",
    "        labels_2.append(float('nan'))\n",
    "        labels_3.append(prices[i])\n",
    "    i+=1\n",
    "        \n",
    "    \n",
    "        "
   ]
  },
  {
   "cell_type": "code",
   "execution_count": 52,
   "id": "a32d41d1-bd63-45a2-aa9c-279e2019367f",
   "metadata": {},
   "outputs": [
    {
     "data": {
      "image/png": "[encoded data removed]",
      "text/plain": [
       "<Figure size 1800x800 with 1 Axes>"
      ]
     },
     "metadata": {},
     "output_type": "display_data"
    }
   ],
   "source": [
    "#Plot Chart\n",
    "fig = plt.figure(figsize = (18,8))\n",
    "plt.plot(labels_0,color = 'red')\n",
    "plt.plot(labels_1,color = 'green')\n",
    "plt.plot(labels_2,color = 'orange')\n",
    "plt.plot(labels_3,color = 'black')\n",
    "plt.show()"
   ]
  },
  {
   "cell_type": "code",
   "execution_count": null,
   "id": "f8904f1d-21f0-4881-a833-544f7d699196",
   "metadata": {},
   "outputs": [],
   "source": []
  }
 ],
 "metadata": {
  "kernelspec": {
   "display_name": "Python 3 (ipykernel)",
   "language": "python",
   "name": "python3"
  },
  "language_info": {
   "codemirror_mode": {
    "name": "ipython",
    "version": 3
   },
   "file_extension": ".py",
   "mimetype": "text/x-python",
   "name": "python",
   "nbconvert_exporter": "python",
   "pygments_lexer": "ipython3",
   "version": "3.8.13"
  }
 },
 "nbformat": 4,
 "nbformat_minor": 5
}
