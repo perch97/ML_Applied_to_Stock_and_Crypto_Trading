{
 "cells": [
  {
   "cell_type": "code",
   "execution_count": 1,
   "id": "ab43c7b9-0698-4f32-ada8-e9980093e73c",
   "metadata": {},
   "outputs": [],
   "source": [
    "import warnings\n",
    "warnings.simplefilter(action = 'ignore', category = FutureWarning)\n",
    "warnings.simplefilter(action = 'ignore', category = RuntimeWarning)\n",
    "\n",
    "import pandas as pd\n",
    "import numpy as np\n",
    "from pandas_datareader import data as pdr\n",
    "import yfinance as yf\n",
    "from ta import add_all_ta_features\n",
    "\n",
    "#Statistics\n",
    "from statsmodels.tsa.stattools import adfuller\n",
    "\n",
    "#Unsupervised ML\n",
    "from sklearn.decomposition import PCA\n",
    "\n",
    "#Supervised ML\n",
    "from sklearn.preprocessing import StandardScaler\n",
    "from sklearn.model_selection import train_test_split\n",
    "from sklearn.ensemble import RandomForestClassifier\n",
    "from sklearn.metrics import accuracy_score\n",
    "from sklearn.metrics import precision_score\n",
    "\n",
    "#Reporting\n",
    "import matplotlib.pyplot as plt"
   ]
  },
  {
   "cell_type": "code",
   "execution_count": null,
   "id": "28b705c7-3b66-44e7-9f1f-2a60be6aa551",
   "metadata": {},
   "outputs": [],
   "source": []
  },
  {
   "cell_type": "code",
   "execution_count": null,
   "id": "a18d3dbc-a750-421c-9106-3bdaddbe71c5",
   "metadata": {},
   "outputs": [],
   "source": []
  },
  {
   "cell_type": "markdown",
   "id": "9577149d-3cf9-4ade-82cf-9b0d4108e0df",
   "metadata": {},
   "source": [
    "### Initial Data Extraction"
   ]
  },
  {
   "cell_type": "code",
   "execution_count": 2,
   "id": "9c476193-e6db-4654-a617-9db569950ab2",
   "metadata": {},
   "outputs": [],
   "source": [
    "#Data Extraction\n",
    "start_date = '2017-01-01'\n",
    "end_date = '2022-06-01'\n",
    "symbol = '^VIX'\n"
   ]
  },
  {
   "cell_type": "code",
   "execution_count": 3,
   "id": "0e4276ef-f1b4-4cf1-ad6a-6dc8233fb048",
   "metadata": {},
   "outputs": [],
   "source": [
    "yf.pdr_override()\n"
   ]
  },
  {
   "cell_type": "code",
   "execution_count": 4,
   "id": "183ac19a-a657-425b-8ddc-f0dcfe11ad2d",
   "metadata": {},
   "outputs": [
    {
     "name": "stdout",
     "output_type": "stream",
     "text": [
      "[*********************100%%**********************]  1 of 1 completed\n"
     ]
    }
   ],
   "source": [
    "data = pdr.get_data_yahoo(symbol, start = start_date,end = end_date)\n"
   ]
  },
  {
   "cell_type": "code",
   "execution_count": 5,
   "id": "7d413803-74c2-4ba3-ae03-69afa593f31d",
   "metadata": {},
   "outputs": [
    {
     "data": {
      "text/plain": [
       "Index(['Open', 'High', 'Low', 'Close', 'Adj Close', 'Volume'], dtype='object')"
      ]
     },
     "execution_count": 5,
     "metadata": {},
     "output_type": "execute_result"
    }
   ],
   "source": [
    "data.columns"
   ]
  },
  {
   "cell_type": "code",
   "execution_count": 6,
   "id": "b33bf0bc-2612-410b-a833-4be2143647d2",
   "metadata": {},
   "outputs": [],
   "source": [
    "#Add TA\n",
    "df = add_all_ta_features(data, open = 'Open', high = 'High',low = 'Low', close = 'Adj Close', volume = 'Volume',fillna = True)"
   ]
  },
  {
   "cell_type": "code",
   "execution_count": 7,
   "id": "a05183aa-aa89-43c6-89d8-dfe111b7abc3",
   "metadata": {},
   "outputs": [
    {
     "data": {
      "text/html": [
       "<div>\n",
       "<style scoped>\n",
       "    .dataframe tbody tr th:only-of-type {\n",
       "        vertical-align: middle;\n",
       "    }\n",
       "\n",
       "    .dataframe tbody tr th {\n",
       "        vertical-align: top;\n",
       "    }\n",
       "\n",
       "    .dataframe thead th {\n",
       "        text-align: right;\n",
       "    }\n",
       "</style>\n",
       "<table border=\"1\" class=\"dataframe\">\n",
       "  <thead>\n",
       "    <tr style=\"text-align: right;\">\n",
       "      <th></th>\n",
       "      <th>Open</th>\n",
       "      <th>High</th>\n",
       "      <th>Low</th>\n",
       "      <th>Close</th>\n",
       "      <th>Adj Close</th>\n",
       "      <th>Volume</th>\n",
       "      <th>volume_adi</th>\n",
       "      <th>volume_obv</th>\n",
       "      <th>volume_cmf</th>\n",
       "      <th>volume_fi</th>\n",
       "      <th>...</th>\n",
       "      <th>momentum_ppo</th>\n",
       "      <th>momentum_ppo_signal</th>\n",
       "      <th>momentum_ppo_hist</th>\n",
       "      <th>momentum_pvo</th>\n",
       "      <th>momentum_pvo_signal</th>\n",
       "      <th>momentum_pvo_hist</th>\n",
       "      <th>momentum_kama</th>\n",
       "      <th>others_dr</th>\n",
       "      <th>others_dlr</th>\n",
       "      <th>others_cr</th>\n",
       "    </tr>\n",
       "    <tr>\n",
       "      <th>Date</th>\n",
       "      <th></th>\n",
       "      <th></th>\n",
       "      <th></th>\n",
       "      <th></th>\n",
       "      <th></th>\n",
       "      <th></th>\n",
       "      <th></th>\n",
       "      <th></th>\n",
       "      <th></th>\n",
       "      <th></th>\n",
       "      <th></th>\n",
       "      <th></th>\n",
       "      <th></th>\n",
       "      <th></th>\n",
       "      <th></th>\n",
       "      <th></th>\n",
       "      <th></th>\n",
       "      <th></th>\n",
       "      <th></th>\n",
       "      <th></th>\n",
       "      <th></th>\n",
       "    </tr>\n",
       "  </thead>\n",
       "  <tbody>\n",
       "    <tr>\n",
       "      <th>2017-01-03</th>\n",
       "      <td>14.07</td>\n",
       "      <td>14.07</td>\n",
       "      <td>12.85</td>\n",
       "      <td>12.85</td>\n",
       "      <td>12.85</td>\n",
       "      <td>0</td>\n",
       "      <td>-0.0</td>\n",
       "      <td>0</td>\n",
       "      <td>0.0</td>\n",
       "      <td>0.0</td>\n",
       "      <td>...</td>\n",
       "      <td>0.000000</td>\n",
       "      <td>0.000000</td>\n",
       "      <td>0.000000</td>\n",
       "      <td>0.0</td>\n",
       "      <td>0.0</td>\n",
       "      <td>0.0</td>\n",
       "      <td>12.850000</td>\n",
       "      <td>0.000000</td>\n",
       "      <td>0.000000</td>\n",
       "      <td>0.000000</td>\n",
       "    </tr>\n",
       "    <tr>\n",
       "      <th>2017-01-04</th>\n",
       "      <td>12.78</td>\n",
       "      <td>12.80</td>\n",
       "      <td>11.63</td>\n",
       "      <td>11.85</td>\n",
       "      <td>11.85</td>\n",
       "      <td>0</td>\n",
       "      <td>-0.0</td>\n",
       "      <td>0</td>\n",
       "      <td>0.0</td>\n",
       "      <td>-0.0</td>\n",
       "      <td>...</td>\n",
       "      <td>-0.624394</td>\n",
       "      <td>-0.124879</td>\n",
       "      <td>-0.499515</td>\n",
       "      <td>0.0</td>\n",
       "      <td>0.0</td>\n",
       "      <td>0.0</td>\n",
       "      <td>12.098375</td>\n",
       "      <td>-7.782101</td>\n",
       "      <td>-8.101594</td>\n",
       "      <td>-7.782101</td>\n",
       "    </tr>\n",
       "    <tr>\n",
       "      <th>2017-01-05</th>\n",
       "      <td>11.96</td>\n",
       "      <td>12.09</td>\n",
       "      <td>11.40</td>\n",
       "      <td>11.67</td>\n",
       "      <td>11.67</td>\n",
       "      <td>0</td>\n",
       "      <td>-0.0</td>\n",
       "      <td>0</td>\n",
       "      <td>0.0</td>\n",
       "      <td>-0.0</td>\n",
       "      <td>...</td>\n",
       "      <td>-1.226732</td>\n",
       "      <td>-0.345249</td>\n",
       "      <td>-0.881483</td>\n",
       "      <td>0.0</td>\n",
       "      <td>0.0</td>\n",
       "      <td>0.0</td>\n",
       "      <td>11.825780</td>\n",
       "      <td>-1.518990</td>\n",
       "      <td>-1.530645</td>\n",
       "      <td>-9.182881</td>\n",
       "    </tr>\n",
       "    <tr>\n",
       "      <th>2017-01-06</th>\n",
       "      <td>11.70</td>\n",
       "      <td>11.74</td>\n",
       "      <td>10.98</td>\n",
       "      <td>11.32</td>\n",
       "      <td>11.32</td>\n",
       "      <td>0</td>\n",
       "      <td>-0.0</td>\n",
       "      <td>0</td>\n",
       "      <td>0.0</td>\n",
       "      <td>-0.0</td>\n",
       "      <td>...</td>\n",
       "      <td>-1.916831</td>\n",
       "      <td>-0.659566</td>\n",
       "      <td>-1.257265</td>\n",
       "      <td>0.0</td>\n",
       "      <td>0.0</td>\n",
       "      <td>0.0</td>\n",
       "      <td>11.503803</td>\n",
       "      <td>-2.999146</td>\n",
       "      <td>-3.045041</td>\n",
       "      <td>-11.906620</td>\n",
       "    </tr>\n",
       "    <tr>\n",
       "      <th>2017-01-09</th>\n",
       "      <td>11.71</td>\n",
       "      <td>12.08</td>\n",
       "      <td>11.46</td>\n",
       "      <td>11.56</td>\n",
       "      <td>11.56</td>\n",
       "      <td>0</td>\n",
       "      <td>-0.0</td>\n",
       "      <td>0</td>\n",
       "      <td>0.0</td>\n",
       "      <td>-0.0</td>\n",
       "      <td>...</td>\n",
       "      <td>-2.289756</td>\n",
       "      <td>-0.985604</td>\n",
       "      <td>-1.304152</td>\n",
       "      <td>0.0</td>\n",
       "      <td>0.0</td>\n",
       "      <td>0.0</td>\n",
       "      <td>11.534477</td>\n",
       "      <td>2.120148</td>\n",
       "      <td>2.097985</td>\n",
       "      <td>-10.038910</td>\n",
       "    </tr>\n",
       "    <tr>\n",
       "      <th>2017-01-10</th>\n",
       "      <td>11.59</td>\n",
       "      <td>11.79</td>\n",
       "      <td>11.31</td>\n",
       "      <td>11.49</td>\n",
       "      <td>11.49</td>\n",
       "      <td>0</td>\n",
       "      <td>-0.0</td>\n",
       "      <td>0</td>\n",
       "      <td>0.0</td>\n",
       "      <td>-0.0</td>\n",
       "      <td>...</td>\n",
       "      <td>-2.607109</td>\n",
       "      <td>-1.309905</td>\n",
       "      <td>-1.297204</td>\n",
       "      <td>0.0</td>\n",
       "      <td>0.0</td>\n",
       "      <td>0.0</td>\n",
       "      <td>11.507629</td>\n",
       "      <td>-0.605542</td>\n",
       "      <td>-0.607383</td>\n",
       "      <td>-10.583662</td>\n",
       "    </tr>\n",
       "    <tr>\n",
       "      <th>2017-01-11</th>\n",
       "      <td>11.56</td>\n",
       "      <td>12.23</td>\n",
       "      <td>11.21</td>\n",
       "      <td>11.26</td>\n",
       "      <td>11.26</td>\n",
       "      <td>0</td>\n",
       "      <td>-0.0</td>\n",
       "      <td>0</td>\n",
       "      <td>0.0</td>\n",
       "      <td>-0.0</td>\n",
       "      <td>...</td>\n",
       "      <td>-2.983530</td>\n",
       "      <td>-1.644630</td>\n",
       "      <td>-1.338900</td>\n",
       "      <td>0.0</td>\n",
       "      <td>0.0</td>\n",
       "      <td>0.0</td>\n",
       "      <td>11.374546</td>\n",
       "      <td>-2.001737</td>\n",
       "      <td>-2.022043</td>\n",
       "      <td>-12.373542</td>\n",
       "    </tr>\n",
       "  </tbody>\n",
       "</table>\n",
       "<p>7 rows × 92 columns</p>\n",
       "</div>"
      ],
      "text/plain": [
       "             Open   High    Low  Close  Adj Close  Volume  volume_adi   \n",
       "Date                                                                    \n",
       "2017-01-03  14.07  14.07  12.85  12.85      12.85       0        -0.0  \\\n",
       "2017-01-04  12.78  12.80  11.63  11.85      11.85       0        -0.0   \n",
       "2017-01-05  11.96  12.09  11.40  11.67      11.67       0        -0.0   \n",
       "2017-01-06  11.70  11.74  10.98  11.32      11.32       0        -0.0   \n",
       "2017-01-09  11.71  12.08  11.46  11.56      11.56       0        -0.0   \n",
       "2017-01-10  11.59  11.79  11.31  11.49      11.49       0        -0.0   \n",
       "2017-01-11  11.56  12.23  11.21  11.26      11.26       0        -0.0   \n",
       "\n",
       "            volume_obv  volume_cmf  volume_fi  ...  momentum_ppo   \n",
       "Date                                           ...                 \n",
       "2017-01-03           0         0.0        0.0  ...      0.000000  \\\n",
       "2017-01-04           0         0.0       -0.0  ...     -0.624394   \n",
       "2017-01-05           0         0.0       -0.0  ...     -1.226732   \n",
       "2017-01-06           0         0.0       -0.0  ...     -1.916831   \n",
       "2017-01-09           0         0.0       -0.0  ...     -2.289756   \n",
       "2017-01-10           0         0.0       -0.0  ...     -2.607109   \n",
       "2017-01-11           0         0.0       -0.0  ...     -2.983530   \n",
       "\n",
       "            momentum_ppo_signal  momentum_ppo_hist  momentum_pvo   \n",
       "Date                                                               \n",
       "2017-01-03             0.000000           0.000000           0.0  \\\n",
       "2017-01-04            -0.124879          -0.499515           0.0   \n",
       "2017-01-05            -0.345249          -0.881483           0.0   \n",
       "2017-01-06            -0.659566          -1.257265           0.0   \n",
       "2017-01-09            -0.985604          -1.304152           0.0   \n",
       "2017-01-10            -1.309905          -1.297204           0.0   \n",
       "2017-01-11            -1.644630          -1.338900           0.0   \n",
       "\n",
       "            momentum_pvo_signal  momentum_pvo_hist  momentum_kama  others_dr   \n",
       "Date                                                                           \n",
       "2017-01-03                  0.0                0.0      12.850000   0.000000  \\\n",
       "2017-01-04                  0.0                0.0      12.098375  -7.782101   \n",
       "2017-01-05                  0.0                0.0      11.825780  -1.518990   \n",
       "2017-01-06                  0.0                0.0      11.503803  -2.999146   \n",
       "2017-01-09                  0.0                0.0      11.534477   2.120148   \n",
       "2017-01-10                  0.0                0.0      11.507629  -0.605542   \n",
       "2017-01-11                  0.0                0.0      11.374546  -2.001737   \n",
       "\n",
       "            others_dlr  others_cr  \n",
       "Date                               \n",
       "2017-01-03    0.000000   0.000000  \n",
       "2017-01-04   -8.101594  -7.782101  \n",
       "2017-01-05   -1.530645  -9.182881  \n",
       "2017-01-06   -3.045041 -11.906620  \n",
       "2017-01-09    2.097985 -10.038910  \n",
       "2017-01-10   -0.607383 -10.583662  \n",
       "2017-01-11   -2.022043 -12.373542  \n",
       "\n",
       "[7 rows x 92 columns]"
      ]
     },
     "execution_count": 7,
     "metadata": {},
     "output_type": "execute_result"
    }
   ],
   "source": [
    "df.head(7)"
   ]
  },
  {
   "cell_type": "code",
   "execution_count": 8,
   "id": "33cb0960-84ad-4fed-9fdc-48278e113335",
   "metadata": {},
   "outputs": [
    {
     "data": {
      "text/plain": [
       "(1362, 92)"
      ]
     },
     "execution_count": 8,
     "metadata": {},
     "output_type": "execute_result"
    }
   ],
   "source": [
    "df.shape"
   ]
  },
  {
   "cell_type": "markdown",
   "id": "86b4f4f9-bde2-480d-a93b-547e55c42be1",
   "metadata": {},
   "source": [
    "### Data Preprocessing - Stationarity"
   ]
  },
  {
   "cell_type": "code",
   "execution_count": 9,
   "id": "2eba297e-686b-4523-97d3-27ce6292719c",
   "metadata": {},
   "outputs": [
    {
     "name": "stdout",
     "output_type": "stream",
     "text": [
      "Non-Stationary Features Found: 29\n"
     ]
    }
   ],
   "source": [
    "# Identify non-stationary columns\n",
    "non_stationaries = []\n",
    "for col in df.columns:\n",
    "    dftest = adfuller(df[col].values)\n",
    "    p_value = dftest[1]\n",
    "    t_test = dftest[0]<dftest[4]['1%']\n",
    "    if p_value>0.05 or not t_test:\n",
    "        non_stationaries.append(col)\n",
    "print(f\"Non-Stationary Features Found: {len(non_stationaries)}\")"
   ]
  },
  {
   "cell_type": "code",
   "execution_count": 10,
   "id": "982caa85-3b40-4bcc-b163-4babba7eb58e",
   "metadata": {},
   "outputs": [],
   "source": [
    "df_stationary = df.copy()\n",
    "df_stationary[non_stationaries] = df_stationary[non_stationaries].pct_change()\n",
    "df_stationary = df_stationary.iloc[1:]"
   ]
  },
  {
   "cell_type": "code",
   "execution_count": 11,
   "id": "38fbce6f-a5bc-405b-be7b-42f6948b8bff",
   "metadata": {},
   "outputs": [],
   "source": [
    "#Find NaN Rows\n",
    "na_list = df_stationary.columns[df_stationary.isna().any().tolist()]"
   ]
  },
  {
   "cell_type": "code",
   "execution_count": 12,
   "id": "352c2049-37cc-4ff0-a73e-d336cc63b126",
   "metadata": {},
   "outputs": [],
   "source": [
    "df_stationary.drop(columns = na_list,inplace = True)"
   ]
  },
  {
   "cell_type": "code",
   "execution_count": 13,
   "id": "17236c85-1dd3-4682-82a5-380916558244",
   "metadata": {},
   "outputs": [
    {
     "data": {
      "text/html": [
       "<div>\n",
       "<style scoped>\n",
       "    .dataframe tbody tr th:only-of-type {\n",
       "        vertical-align: middle;\n",
       "    }\n",
       "\n",
       "    .dataframe tbody tr th {\n",
       "        vertical-align: top;\n",
       "    }\n",
       "\n",
       "    .dataframe thead th {\n",
       "        text-align: right;\n",
       "    }\n",
       "</style>\n",
       "<table border=\"1\" class=\"dataframe\">\n",
       "  <thead>\n",
       "    <tr style=\"text-align: right;\">\n",
       "      <th></th>\n",
       "      <th>Open</th>\n",
       "      <th>High</th>\n",
       "      <th>Low</th>\n",
       "      <th>Close</th>\n",
       "      <th>Adj Close</th>\n",
       "      <th>volume_mfi</th>\n",
       "      <th>volume_nvi</th>\n",
       "      <th>volatility_bbm</th>\n",
       "      <th>volatility_bbh</th>\n",
       "      <th>volatility_bbl</th>\n",
       "      <th>...</th>\n",
       "      <th>momentum_wr</th>\n",
       "      <th>momentum_ao</th>\n",
       "      <th>momentum_roc</th>\n",
       "      <th>momentum_ppo</th>\n",
       "      <th>momentum_ppo_signal</th>\n",
       "      <th>momentum_ppo_hist</th>\n",
       "      <th>momentum_kama</th>\n",
       "      <th>others_dr</th>\n",
       "      <th>others_dlr</th>\n",
       "      <th>others_cr</th>\n",
       "    </tr>\n",
       "    <tr>\n",
       "      <th>Date</th>\n",
       "      <th></th>\n",
       "      <th></th>\n",
       "      <th></th>\n",
       "      <th></th>\n",
       "      <th></th>\n",
       "      <th></th>\n",
       "      <th></th>\n",
       "      <th></th>\n",
       "      <th></th>\n",
       "      <th></th>\n",
       "      <th></th>\n",
       "      <th></th>\n",
       "      <th></th>\n",
       "      <th></th>\n",
       "      <th></th>\n",
       "      <th></th>\n",
       "      <th></th>\n",
       "      <th></th>\n",
       "      <th></th>\n",
       "      <th></th>\n",
       "      <th></th>\n",
       "    </tr>\n",
       "  </thead>\n",
       "  <tbody>\n",
       "    <tr>\n",
       "      <th>2017-01-04</th>\n",
       "      <td>12.78</td>\n",
       "      <td>12.80</td>\n",
       "      <td>-0.094942</td>\n",
       "      <td>11.85</td>\n",
       "      <td>11.85</td>\n",
       "      <td>0.0</td>\n",
       "      <td>0.0</td>\n",
       "      <td>12.350000</td>\n",
       "      <td>0.038911</td>\n",
       "      <td>-0.116732</td>\n",
       "      <td>...</td>\n",
       "      <td>-90.983594</td>\n",
       "      <td>0.000000</td>\n",
       "      <td>0.0</td>\n",
       "      <td>-0.624394</td>\n",
       "      <td>-0.124879</td>\n",
       "      <td>-0.499515</td>\n",
       "      <td>-0.058492</td>\n",
       "      <td>-7.782101</td>\n",
       "      <td>-8.101594</td>\n",
       "      <td>-7.782101</td>\n",
       "    </tr>\n",
       "    <tr>\n",
       "      <th>2017-01-05</th>\n",
       "      <td>11.96</td>\n",
       "      <td>12.09</td>\n",
       "      <td>-0.019776</td>\n",
       "      <td>11.67</td>\n",
       "      <td>11.67</td>\n",
       "      <td>0.0</td>\n",
       "      <td>0.0</td>\n",
       "      <td>12.123334</td>\n",
       "      <td>-0.014123</td>\n",
       "      <td>-0.023329</td>\n",
       "      <td>...</td>\n",
       "      <td>-89.887624</td>\n",
       "      <td>0.000000</td>\n",
       "      <td>0.0</td>\n",
       "      <td>-1.226732</td>\n",
       "      <td>-0.345249</td>\n",
       "      <td>-0.881483</td>\n",
       "      <td>-0.022532</td>\n",
       "      <td>-1.518990</td>\n",
       "      <td>-1.530645</td>\n",
       "      <td>-9.182881</td>\n",
       "    </tr>\n",
       "    <tr>\n",
       "      <th>2017-01-06</th>\n",
       "      <td>11.70</td>\n",
       "      <td>11.74</td>\n",
       "      <td>-0.036842</td>\n",
       "      <td>11.32</td>\n",
       "      <td>11.32</td>\n",
       "      <td>0.0</td>\n",
       "      <td>0.0</td>\n",
       "      <td>11.922500</td>\n",
       "      <td>-0.007763</td>\n",
       "      <td>-0.027018</td>\n",
       "      <td>...</td>\n",
       "      <td>-88.996759</td>\n",
       "      <td>0.000000</td>\n",
       "      <td>0.0</td>\n",
       "      <td>-1.916831</td>\n",
       "      <td>-0.659566</td>\n",
       "      <td>-1.257265</td>\n",
       "      <td>-0.027227</td>\n",
       "      <td>-2.999146</td>\n",
       "      <td>-3.045041</td>\n",
       "      <td>-11.906620</td>\n",
       "    </tr>\n",
       "    <tr>\n",
       "      <th>2017-01-09</th>\n",
       "      <td>11.71</td>\n",
       "      <td>12.08</td>\n",
       "      <td>0.043716</td>\n",
       "      <td>11.56</td>\n",
       "      <td>11.56</td>\n",
       "      <td>0.0</td>\n",
       "      <td>0.0</td>\n",
       "      <td>11.850000</td>\n",
       "      <td>-0.011637</td>\n",
       "      <td>0.000646</td>\n",
       "      <td>...</td>\n",
       "      <td>-81.229746</td>\n",
       "      <td>0.000000</td>\n",
       "      <td>0.0</td>\n",
       "      <td>-2.289756</td>\n",
       "      <td>-0.985604</td>\n",
       "      <td>-1.304152</td>\n",
       "      <td>0.002666</td>\n",
       "      <td>2.120148</td>\n",
       "      <td>2.097985</td>\n",
       "      <td>-10.038910</td>\n",
       "    </tr>\n",
       "    <tr>\n",
       "      <th>2017-01-10</th>\n",
       "      <td>11.59</td>\n",
       "      <td>11.79</td>\n",
       "      <td>-0.013089</td>\n",
       "      <td>11.49</td>\n",
       "      <td>11.49</td>\n",
       "      <td>0.0</td>\n",
       "      <td>0.0</td>\n",
       "      <td>11.790000</td>\n",
       "      <td>-0.008950</td>\n",
       "      <td>-0.000415</td>\n",
       "      <td>...</td>\n",
       "      <td>-83.495139</td>\n",
       "      <td>-0.288667</td>\n",
       "      <td>0.0</td>\n",
       "      <td>-2.607109</td>\n",
       "      <td>-1.309905</td>\n",
       "      <td>-1.297204</td>\n",
       "      <td>-0.002328</td>\n",
       "      <td>-0.605542</td>\n",
       "      <td>-0.607383</td>\n",
       "      <td>-10.583662</td>\n",
       "    </tr>\n",
       "  </tbody>\n",
       "</table>\n",
       "<p>5 rows × 80 columns</p>\n",
       "</div>"
      ],
      "text/plain": [
       "             Open   High       Low  Close  Adj Close  volume_mfi  volume_nvi   \n",
       "Date                                                                           \n",
       "2017-01-04  12.78  12.80 -0.094942  11.85      11.85         0.0         0.0  \\\n",
       "2017-01-05  11.96  12.09 -0.019776  11.67      11.67         0.0         0.0   \n",
       "2017-01-06  11.70  11.74 -0.036842  11.32      11.32         0.0         0.0   \n",
       "2017-01-09  11.71  12.08  0.043716  11.56      11.56         0.0         0.0   \n",
       "2017-01-10  11.59  11.79 -0.013089  11.49      11.49         0.0         0.0   \n",
       "\n",
       "            volatility_bbm  volatility_bbh  volatility_bbl  ...  momentum_wr   \n",
       "Date                                                        ...                \n",
       "2017-01-04       12.350000        0.038911       -0.116732  ...   -90.983594  \\\n",
       "2017-01-05       12.123334       -0.014123       -0.023329  ...   -89.887624   \n",
       "2017-01-06       11.922500       -0.007763       -0.027018  ...   -88.996759   \n",
       "2017-01-09       11.850000       -0.011637        0.000646  ...   -81.229746   \n",
       "2017-01-10       11.790000       -0.008950       -0.000415  ...   -83.495139   \n",
       "\n",
       "            momentum_ao  momentum_roc  momentum_ppo  momentum_ppo_signal   \n",
       "Date                                                                       \n",
       "2017-01-04     0.000000           0.0     -0.624394            -0.124879  \\\n",
       "2017-01-05     0.000000           0.0     -1.226732            -0.345249   \n",
       "2017-01-06     0.000000           0.0     -1.916831            -0.659566   \n",
       "2017-01-09     0.000000           0.0     -2.289756            -0.985604   \n",
       "2017-01-10    -0.288667           0.0     -2.607109            -1.309905   \n",
       "\n",
       "            momentum_ppo_hist  momentum_kama  others_dr  others_dlr  others_cr  \n",
       "Date                                                                            \n",
       "2017-01-04          -0.499515      -0.058492  -7.782101   -8.101594  -7.782101  \n",
       "2017-01-05          -0.881483      -0.022532  -1.518990   -1.530645  -9.182881  \n",
       "2017-01-06          -1.257265      -0.027227  -2.999146   -3.045041 -11.906620  \n",
       "2017-01-09          -1.304152       0.002666   2.120148    2.097985 -10.038910  \n",
       "2017-01-10          -1.297204      -0.002328  -0.605542   -0.607383 -10.583662  \n",
       "\n",
       "[5 rows x 80 columns]"
      ]
     },
     "execution_count": 13,
     "metadata": {},
     "output_type": "execute_result"
    }
   ],
   "source": [
    "df_stationary.replace([np.inf,-np.inf],0,inplace = True)\n",
    "df_stationary.head(5)"
   ]
  },
  {
   "cell_type": "markdown",
   "id": "6e54ca6f-a3f4-45d5-bcc6-26091720b638",
   "metadata": {},
   "source": [
    "### Data Preprocessing - Scalling and Target Setting"
   ]
  },
  {
   "cell_type": "code",
   "execution_count": 14,
   "id": "3b6e3672-524d-4752-aacf-05696444e7f9",
   "metadata": {},
   "outputs": [],
   "source": [
    "# Set target\n",
    "df_stationary['TARGET'] = -1\n",
    "df_stationary.loc[df_stationary['Adj Close'].shift(-1)>df_stationary['Adj Close'],'TARGET'] = 1"
   ]
  },
  {
   "cell_type": "code",
   "execution_count": 15,
   "id": "60d07c75-9880-487d-a993-eb4f2308e62f",
   "metadata": {},
   "outputs": [],
   "source": [
    "df_stationary.dropna(inplace = True)"
   ]
  },
  {
   "cell_type": "code",
   "execution_count": 16,
   "id": "60adbbec-d964-4c9a-b7d3-a30abc03a63e",
   "metadata": {},
   "outputs": [],
   "source": [
    "#Split Target from Featureset\n",
    "X = df_stationary.iloc[:,:-1]\n",
    "y = df_stationary.iloc[:,-1]"
   ]
  },
  {
   "cell_type": "code",
   "execution_count": 17,
   "id": "056427f4-11af-42ea-87dc-ba5f1b888c4d",
   "metadata": {},
   "outputs": [],
   "source": [
    "#Feature Scaling\n",
    "df_sc = df_stationary.copy()\n",
    "X_fs = StandardScaler().fit_transform(X)"
   ]
  },
  {
   "cell_type": "code",
   "execution_count": 18,
   "id": "64261046-5347-48fd-8518-b45c3515c875",
   "metadata": {},
   "outputs": [],
   "source": [
    "# Train Test Split\n",
    "X_train, X_test, y_train, y_test = train_test_split(X_fs,y,test_size = 0.7, random_state = 42)"
   ]
  },
  {
   "cell_type": "markdown",
   "id": "3829ecf9-dab1-4947-bdc8-a56661f256e1",
   "metadata": {},
   "source": [
    "### Unsupervised ML - PCA"
   ]
  },
  {
   "cell_type": "code",
   "execution_count": 19,
   "id": "d51064c6-9e2c-44c3-a7f0-74167415d965",
   "metadata": {},
   "outputs": [],
   "source": [
    "#PCA \n",
    "n_components = 8\n",
    "pca = PCA(n_components = n_components)\n",
    "pca_result = pca.fit(X_train)\n",
    "X_train_pca = pca_result.transform(X_train)\n",
    "X_test_pca = pca_result.transform(X_test)"
   ]
  },
  {
   "cell_type": "code",
   "execution_count": 20,
   "id": "8e7944a9-78c4-4476-bbdd-e044589cc952",
   "metadata": {},
   "outputs": [
    {
     "name": "stdout",
     "output_type": "stream",
     "text": [
      "Variance of each component:  [0.39263995 0.1923962  0.08530978 0.048302   0.03240372 0.0255091\n",
      " 0.02368493 0.02070037]\n",
      "\n",
      " Total Variance Explained:  82.09\n"
     ]
    }
   ],
   "source": [
    "# Calculate the variance explained by Principle Components\n",
    "\n",
    "print('Variance of each component: ', pca.explained_variance_ratio_)\n",
    "print('\\n Total Variance Explained: ', round(sum(list(pca.explained_variance_ratio_))*100,2))"
   ]
  },
  {
   "cell_type": "code",
   "execution_count": 21,
   "id": "cfa2de48-1b2a-45a4-82b9-202bd97dd5ea",
   "metadata": {},
   "outputs": [
    {
     "data": {
      "text/plain": [
       "['PC_0', 'PC_1', 'PC_2', 'PC_3', 'PC_4', 'PC_5', 'PC_6', 'PC_7']"
      ]
     },
     "execution_count": 21,
     "metadata": {},
     "output_type": "execute_result"
    }
   ],
   "source": [
    "#Create columns\n",
    "pca_cols = []\n",
    "for i in range(n_components):\n",
    "    pca_cols.append(f\"PC_{i}\")\n",
    "pca_cols"
   ]
  },
  {
   "cell_type": "code",
   "execution_count": 22,
   "id": "7363a09d-a62f-40b9-b750-002bdbc1a3fc",
   "metadata": {},
   "outputs": [
    {
     "data": {
      "text/html": [
       "<div>\n",
       "<style scoped>\n",
       "    .dataframe tbody tr th:only-of-type {\n",
       "        vertical-align: middle;\n",
       "    }\n",
       "\n",
       "    .dataframe tbody tr th {\n",
       "        vertical-align: top;\n",
       "    }\n",
       "\n",
       "    .dataframe thead th {\n",
       "        text-align: right;\n",
       "    }\n",
       "</style>\n",
       "<table border=\"1\" class=\"dataframe\">\n",
       "  <thead>\n",
       "    <tr style=\"text-align: right;\">\n",
       "      <th></th>\n",
       "      <th>PC_0</th>\n",
       "      <th>PC_1</th>\n",
       "      <th>PC_2</th>\n",
       "      <th>PC_3</th>\n",
       "      <th>PC_4</th>\n",
       "      <th>PC_5</th>\n",
       "      <th>PC_6</th>\n",
       "      <th>PC_7</th>\n",
       "    </tr>\n",
       "  </thead>\n",
       "  <tbody>\n",
       "    <tr>\n",
       "      <th>0</th>\n",
       "      <td>-7.370026</td>\n",
       "      <td>0.399547</td>\n",
       "      <td>0.809056</td>\n",
       "      <td>-0.191876</td>\n",
       "      <td>3.863092</td>\n",
       "      <td>1.389767</td>\n",
       "      <td>-1.958810</td>\n",
       "      <td>7.877235</td>\n",
       "    </tr>\n",
       "    <tr>\n",
       "      <th>1</th>\n",
       "      <td>-5.078245</td>\n",
       "      <td>-0.406881</td>\n",
       "      <td>2.231608</td>\n",
       "      <td>0.387726</td>\n",
       "      <td>1.736391</td>\n",
       "      <td>-0.164303</td>\n",
       "      <td>0.156158</td>\n",
       "      <td>1.012997</td>\n",
       "    </tr>\n",
       "    <tr>\n",
       "      <th>2</th>\n",
       "      <td>-1.668529</td>\n",
       "      <td>4.539927</td>\n",
       "      <td>1.234120</td>\n",
       "      <td>0.609004</td>\n",
       "      <td>0.641136</td>\n",
       "      <td>1.067170</td>\n",
       "      <td>-1.861624</td>\n",
       "      <td>-0.154784</td>\n",
       "    </tr>\n",
       "    <tr>\n",
       "      <th>3</th>\n",
       "      <td>1.649542</td>\n",
       "      <td>-4.885910</td>\n",
       "      <td>0.369397</td>\n",
       "      <td>0.825335</td>\n",
       "      <td>-1.159047</td>\n",
       "      <td>-1.667970</td>\n",
       "      <td>0.074831</td>\n",
       "      <td>0.517796</td>\n",
       "    </tr>\n",
       "    <tr>\n",
       "      <th>4</th>\n",
       "      <td>-4.662838</td>\n",
       "      <td>1.106372</td>\n",
       "      <td>-2.488366</td>\n",
       "      <td>-0.826410</td>\n",
       "      <td>1.757151</td>\n",
       "      <td>0.961566</td>\n",
       "      <td>0.602901</td>\n",
       "      <td>-0.741827</td>\n",
       "    </tr>\n",
       "  </tbody>\n",
       "</table>\n",
       "</div>"
      ],
      "text/plain": [
       "       PC_0      PC_1      PC_2      PC_3      PC_4      PC_5      PC_6   \n",
       "0 -7.370026  0.399547  0.809056 -0.191876  3.863092  1.389767 -1.958810  \\\n",
       "1 -5.078245 -0.406881  2.231608  0.387726  1.736391 -0.164303  0.156158   \n",
       "2 -1.668529  4.539927  1.234120  0.609004  0.641136  1.067170 -1.861624   \n",
       "3  1.649542 -4.885910  0.369397  0.825335 -1.159047 -1.667970  0.074831   \n",
       "4 -4.662838  1.106372 -2.488366 -0.826410  1.757151  0.961566  0.602901   \n",
       "\n",
       "       PC_7  \n",
       "0  7.877235  \n",
       "1  1.012997  \n",
       "2 -0.154784  \n",
       "3  0.517796  \n",
       "4 -0.741827  "
      ]
     },
     "execution_count": 22,
     "metadata": {},
     "output_type": "execute_result"
    }
   ],
   "source": [
    "#Create and view DataFrame\n",
    "\n",
    "df_pca = pd.DataFrame(data = X_train_pca, columns = pca_cols)\n",
    "df_pca.head()"
   ]
  },
  {
   "cell_type": "code",
   "execution_count": 28,
   "id": "37c57c78-8384-41da-9615-ca96cde88643",
   "metadata": {},
   "outputs": [
    {
     "data": {
      "image/png": "[encoded data removed]",
      "text/plain": [
       "<Figure size 800x600 with 1 Axes>"
      ]
     },
     "metadata": {},
     "output_type": "display_data"
    }
   ],
   "source": [
    "# Visualize Principle Components with Scatter Plot\n",
    "\n",
    "fig = plt.figure(figsize = (8,6))\n",
    "ax = fig.add_subplot(1,1,1)\n",
    "col_1 = \"PC_0\"\n",
    "col_2 = \"PC_4\"\n",
    "ax.set_xlabel(f\"{col_1}_ Principle Component\", fontsize = 15)\n",
    "ax.set_ylabel(f\"{col_2}_ Principle Component\", fontsize = 15)\n",
    "ax.set_title(\"PCA on Training Dataset\", fontsize = 20)\n",
    "\n",
    "targets = [-1,1]\n",
    "colors = ['b','g']\n",
    "for target, color in zip(targets,colors):\n",
    "    indices_to_keep = y_train == target\n",
    "    indices_to_keep = list(indices_to_keep)\n",
    "    ax.scatter(df_pca.loc[indices_to_keep,col_1],\n",
    "               df_pca.loc[indices_to_keep,col_2],\n",
    "               c = color, s =50)\n",
    "ax.legend(targets)\n",
    "ax.grid()"
   ]
  },
  {
   "cell_type": "markdown",
   "id": "0e2c277e-273f-4485-a480-dd663ade89c2",
   "metadata": {},
   "source": [
    "### Supervised ML - Random Forest Classifier"
   ]
  },
  {
   "cell_type": "code",
   "execution_count": 58,
   "id": "9365db97-9586-4c99-8386-aea581ce3edb",
   "metadata": {},
   "outputs": [
    {
     "name": "stdout",
     "output_type": "stream",
     "text": [
      "Test Accuracy: 0.5634837355718783\n",
      "Test Precision: 0.5265700483091788\n"
     ]
    }
   ],
   "source": [
    "classifier = RandomForestClassifier(n_estimators = i, max_depth = 2, random_state = 0)\n",
    "classifier.fit(X_train,y_train)\n",
    "y_pred = classifier.predict(X_test)\n",
    "accuracy = accuracy_score(y_test,y_pred)\n",
    "precision = precision_score(y_test,y_pred)\n",
    "precisions.append(precision)\n",
    "accuracies.append(accuracy)\n",
    "\n",
    "print(f\"Test Accuracy: {accuracy}\")\n",
    "print(f\"Test Precision: {precision}\")"
   ]
  },
  {
   "cell_type": "code",
   "execution_count": 57,
   "id": "dfe0952b-e716-4532-a758-518deead3cc2",
   "metadata": {},
   "outputs": [
    {
     "data": {
      "text/plain": [
       "array([[0.3883064 , 0.6116936 ],\n",
       "       [0.66366324, 0.33633676],\n",
       "       [0.49832412, 0.50167588],\n",
       "       ...,\n",
       "       [0.52760614, 0.47239386],\n",
       "       [0.51920002, 0.48079998],\n",
       "       [0.54011688, 0.45988312]])"
      ]
     },
     "execution_count": 57,
     "metadata": {},
     "output_type": "execute_result"
    }
   ],
   "source": [
    "y_pred_proba = classifier.predict_proba(X_test)\n",
    "y_pred_proba"
   ]
  },
  {
   "cell_type": "code",
   "execution_count": 60,
   "id": "29a3c165-673f-44d9-8792-6fce894842d5",
   "metadata": {},
   "outputs": [],
   "source": [
    "#Test for overfitting\n",
    "\n",
    "train_scores, test_scores = list(), list()\n",
    "\n",
    "values = [i for i in range(1,200)]\n",
    "for i in values:\n",
    "    classifier = RandomForestClassifier(n_estimators = i, max_depth = 2, random_state = 0)\n",
    "    classifier.fit(X_train,y_train)\n",
    "\n",
    "    #Training Data\n",
    "    y_train_pred = classifier.predict(X_train)\n",
    "    accuracy_train = accuracy_score(y_train,y_train_pred)\n",
    "    train_scores.append(accuracy_train)\n",
    "\n",
    "    #Test Data\n",
    "    y_test_pred = classifier.predict(X_test)\n",
    "    accuracy_test = accuracy_score(y_test,y_test_pred)\n",
    "    test_scores.append(accuracy_test)"
   ]
  },
  {
   "cell_type": "code",
   "execution_count": 63,
   "id": "bc8ad30c-7c5b-4db8-9fbf-6183b9a8325e",
   "metadata": {},
   "outputs": [
    {
     "data": {
      "text/plain": [
       "True"
      ]
     },
     "execution_count": 63,
     "metadata": {},
     "output_type": "execute_result"
    }
   ],
   "source": [
    "train_scores>test_scores"
   ]
  },
  {
   "cell_type": "code",
   "execution_count": null,
   "id": "41ab1768-0ef7-45af-8c3f-73ed3ddd1d7b",
   "metadata": {},
   "outputs": [],
   "source": [
    "#Plot result"
   ]
  },
  {
   "cell_type": "code",
   "execution_count": 64,
   "id": "49bb640f-2111-43a8-8f99-a47c3e482538",
   "metadata": {},
   "outputs": [
    {
     "data": {
      "text/plain": [
       "<matplotlib.legend.Legend at 0x7fb388463790>"
      ]
     },
     "execution_count": 64,
     "metadata": {},
     "output_type": "execute_result"
    },
    {
     "data": {
      "image/png": "[encoded data removed]",
      "text/plain": [
       "<Figure size 800x600 with 1 Axes>"
      ]
     },
     "metadata": {},
     "output_type": "display_data"
    }
   ],
   "source": [
    "fig = plt.figure(figsize = (8,6))\n",
    "ax = fig.add_subplot(1,1,1)\n",
    "ax.plot(train_scores)\n",
    "ax.plot(test_scores)\n",
    "ax.set_xlabel(\"n_estimators\", fontsize = 15)\n",
    "ax.set_title(\"train vs test score\", fontsize = 20)\n",
    "ax.legend(['train','accuracy'])\n"
   ]
  },
  {
   "cell_type": "code",
   "execution_count": null,
   "id": "9e0f823a-1d70-4ea6-a6bc-417925d6b36a",
   "metadata": {},
   "outputs": [],
   "source": []
  }
 ],
 "metadata": {
  "kernelspec": {
   "display_name": "Python 3 (ipykernel)",
   "language": "python",
   "name": "python3"
  },
  "language_info": {
   "codemirror_mode": {
    "name": "ipython",
    "version": 3
   },
   "file_extension": ".py",
   "mimetype": "text/x-python",
   "name": "python",
   "nbconvert_exporter": "python",
   "pygments_lexer": "ipython3",
   "version": "3.8.13"
  }
 },
 "nbformat": 4,
 "nbformat_minor": 5
}
