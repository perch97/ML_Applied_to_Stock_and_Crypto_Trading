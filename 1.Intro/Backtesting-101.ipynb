{
 "cells": [
  {
   "cell_type": "code",
   "execution_count": 39,
   "id": "4fdfce48-1531-4d5f-abeb-0c66f03eb354",
   "metadata": {},
   "outputs": [],
   "source": [
    "import matplotlib.pyplot as plt\n",
    "import yfinance as yf\n",
    "from pandas_datareader import data as pdr\n",
    "import pandas as pd\n",
    "import numpy as np"
   ]
  },
  {
   "cell_type": "code",
   "execution_count": 40,
   "id": "f03ed390-76c3-4eb7-a6fa-36cd13c59aab",
   "metadata": {},
   "outputs": [],
   "source": [
    "yf.pdr_override()\n"
   ]
  },
  {
   "cell_type": "code",
   "execution_count": 41,
   "id": "331d2b59-db49-4ba7-8be0-a67230a0fcfc",
   "metadata": {},
   "outputs": [
    {
     "name": "stdout",
     "output_type": "stream",
     "text": [
      "[*********************100%%**********************]  1 of 1 completed\n"
     ]
    }
   ],
   "source": [
    "df = pdr.get_data_yahoo(\"SPY\", start = \"2017-01-01\", end = \"2024-04-01\")"
   ]
  },
  {
   "cell_type": "code",
   "execution_count": 42,
   "id": "f22b5b3f-4fdb-464d-a960-7302f6126c21",
   "metadata": {},
   "outputs": [
    {
     "data": {
      "text/html": [
       "<div>\n",
       "<style scoped>\n",
       "    .dataframe tbody tr th:only-of-type {\n",
       "        vertical-align: middle;\n",
       "    }\n",
       "\n",
       "    .dataframe tbody tr th {\n",
       "        vertical-align: top;\n",
       "    }\n",
       "\n",
       "    .dataframe thead th {\n",
       "        text-align: right;\n",
       "    }\n",
       "</style>\n",
       "<table border=\"1\" class=\"dataframe\">\n",
       "  <thead>\n",
       "    <tr style=\"text-align: right;\">\n",
       "      <th></th>\n",
       "      <th>Open</th>\n",
       "      <th>High</th>\n",
       "      <th>Low</th>\n",
       "      <th>Close</th>\n",
       "      <th>Adj Close</th>\n",
       "      <th>Volume</th>\n",
       "    </tr>\n",
       "    <tr>\n",
       "      <th>Date</th>\n",
       "      <th></th>\n",
       "      <th></th>\n",
       "      <th></th>\n",
       "      <th></th>\n",
       "      <th></th>\n",
       "      <th></th>\n",
       "    </tr>\n",
       "  </thead>\n",
       "  <tbody>\n",
       "    <tr>\n",
       "      <th>2017-01-03</th>\n",
       "      <td>225.039993</td>\n",
       "      <td>225.830002</td>\n",
       "      <td>223.880005</td>\n",
       "      <td>225.240005</td>\n",
       "      <td>199.200668</td>\n",
       "      <td>91366500</td>\n",
       "    </tr>\n",
       "    <tr>\n",
       "      <th>2017-01-04</th>\n",
       "      <td>225.619995</td>\n",
       "      <td>226.750000</td>\n",
       "      <td>225.610001</td>\n",
       "      <td>226.580002</td>\n",
       "      <td>200.385712</td>\n",
       "      <td>78744400</td>\n",
       "    </tr>\n",
       "    <tr>\n",
       "      <th>2017-01-05</th>\n",
       "      <td>226.270004</td>\n",
       "      <td>226.580002</td>\n",
       "      <td>225.479996</td>\n",
       "      <td>226.399994</td>\n",
       "      <td>200.226501</td>\n",
       "      <td>78379000</td>\n",
       "    </tr>\n",
       "    <tr>\n",
       "      <th>2017-01-06</th>\n",
       "      <td>226.529999</td>\n",
       "      <td>227.750000</td>\n",
       "      <td>225.899994</td>\n",
       "      <td>227.210007</td>\n",
       "      <td>200.942856</td>\n",
       "      <td>71559900</td>\n",
       "    </tr>\n",
       "    <tr>\n",
       "      <th>2017-01-09</th>\n",
       "      <td>226.910004</td>\n",
       "      <td>227.070007</td>\n",
       "      <td>226.419998</td>\n",
       "      <td>226.460007</td>\n",
       "      <td>200.279602</td>\n",
       "      <td>46939700</td>\n",
       "    </tr>\n",
       "  </tbody>\n",
       "</table>\n",
       "</div>"
      ],
      "text/plain": [
       "                  Open        High         Low       Close   Adj Close   \n",
       "Date                                                                     \n",
       "2017-01-03  225.039993  225.830002  223.880005  225.240005  199.200668  \\\n",
       "2017-01-04  225.619995  226.750000  225.610001  226.580002  200.385712   \n",
       "2017-01-05  226.270004  226.580002  225.479996  226.399994  200.226501   \n",
       "2017-01-06  226.529999  227.750000  225.899994  227.210007  200.942856   \n",
       "2017-01-09  226.910004  227.070007  226.419998  226.460007  200.279602   \n",
       "\n",
       "              Volume  \n",
       "Date                  \n",
       "2017-01-03  91366500  \n",
       "2017-01-04  78744400  \n",
       "2017-01-05  78379000  \n",
       "2017-01-06  71559900  \n",
       "2017-01-09  46939700  "
      ]
     },
     "execution_count": 42,
     "metadata": {},
     "output_type": "execute_result"
    }
   ],
   "source": [
    "df.head()"
   ]
  },
  {
   "cell_type": "markdown",
   "id": "6d5c776a-7ebc-433f-a26b-64765a6da153",
   "metadata": {},
   "source": [
    "# Feature Adjustments"
   ]
  },
  {
   "cell_type": "code",
   "execution_count": 45,
   "id": "13de2202-1884-42b4-895c-78fd60b0fc46",
   "metadata": {},
   "outputs": [
    {
     "data": {
      "text/html": [
       "<div>\n",
       "<style scoped>\n",
       "    .dataframe tbody tr th:only-of-type {\n",
       "        vertical-align: middle;\n",
       "    }\n",
       "\n",
       "    .dataframe tbody tr th {\n",
       "        vertical-align: top;\n",
       "    }\n",
       "\n",
       "    .dataframe thead th {\n",
       "        text-align: right;\n",
       "    }\n",
       "</style>\n",
       "<table border=\"1\" class=\"dataframe\">\n",
       "  <thead>\n",
       "    <tr style=\"text-align: right;\">\n",
       "      <th></th>\n",
       "      <th>Open</th>\n",
       "      <th>High</th>\n",
       "      <th>Low</th>\n",
       "      <th>Close</th>\n",
       "      <th>Adj Close</th>\n",
       "      <th>Volume</th>\n",
       "      <th>MA_12</th>\n",
       "      <th>MA_21</th>\n",
       "      <th>Signal</th>\n",
       "    </tr>\n",
       "    <tr>\n",
       "      <th>Date</th>\n",
       "      <th></th>\n",
       "      <th></th>\n",
       "      <th></th>\n",
       "      <th></th>\n",
       "      <th></th>\n",
       "      <th></th>\n",
       "      <th></th>\n",
       "      <th></th>\n",
       "      <th></th>\n",
       "    </tr>\n",
       "  </thead>\n",
       "  <tbody>\n",
       "    <tr>\n",
       "      <th>2017-01-03</th>\n",
       "      <td>225.039993</td>\n",
       "      <td>225.830002</td>\n",
       "      <td>223.880005</td>\n",
       "      <td>225.240005</td>\n",
       "      <td>199.200668</td>\n",
       "      <td>91366500</td>\n",
       "      <td>NaN</td>\n",
       "      <td>NaN</td>\n",
       "      <td>NaN</td>\n",
       "    </tr>\n",
       "    <tr>\n",
       "      <th>2017-01-04</th>\n",
       "      <td>225.619995</td>\n",
       "      <td>226.750000</td>\n",
       "      <td>225.610001</td>\n",
       "      <td>226.580002</td>\n",
       "      <td>200.385712</td>\n",
       "      <td>78744400</td>\n",
       "      <td>NaN</td>\n",
       "      <td>NaN</td>\n",
       "      <td>NaN</td>\n",
       "    </tr>\n",
       "    <tr>\n",
       "      <th>2017-01-05</th>\n",
       "      <td>226.270004</td>\n",
       "      <td>226.580002</td>\n",
       "      <td>225.479996</td>\n",
       "      <td>226.399994</td>\n",
       "      <td>200.226501</td>\n",
       "      <td>78379000</td>\n",
       "      <td>NaN</td>\n",
       "      <td>NaN</td>\n",
       "      <td>NaN</td>\n",
       "    </tr>\n",
       "    <tr>\n",
       "      <th>2017-01-06</th>\n",
       "      <td>226.529999</td>\n",
       "      <td>227.750000</td>\n",
       "      <td>225.899994</td>\n",
       "      <td>227.210007</td>\n",
       "      <td>200.942856</td>\n",
       "      <td>71559900</td>\n",
       "      <td>NaN</td>\n",
       "      <td>NaN</td>\n",
       "      <td>NaN</td>\n",
       "    </tr>\n",
       "    <tr>\n",
       "      <th>2017-01-09</th>\n",
       "      <td>226.910004</td>\n",
       "      <td>227.070007</td>\n",
       "      <td>226.419998</td>\n",
       "      <td>226.460007</td>\n",
       "      <td>200.279602</td>\n",
       "      <td>46939700</td>\n",
       "      <td>NaN</td>\n",
       "      <td>NaN</td>\n",
       "      <td>NaN</td>\n",
       "    </tr>\n",
       "  </tbody>\n",
       "</table>\n",
       "</div>"
      ],
      "text/plain": [
       "                  Open        High         Low       Close   Adj Close   \n",
       "Date                                                                     \n",
       "2017-01-03  225.039993  225.830002  223.880005  225.240005  199.200668  \\\n",
       "2017-01-04  225.619995  226.750000  225.610001  226.580002  200.385712   \n",
       "2017-01-05  226.270004  226.580002  225.479996  226.399994  200.226501   \n",
       "2017-01-06  226.529999  227.750000  225.899994  227.210007  200.942856   \n",
       "2017-01-09  226.910004  227.070007  226.419998  226.460007  200.279602   \n",
       "\n",
       "              Volume  MA_12  MA_21  Signal  \n",
       "Date                                        \n",
       "2017-01-03  91366500    NaN    NaN     NaN  \n",
       "2017-01-04  78744400    NaN    NaN     NaN  \n",
       "2017-01-05  78379000    NaN    NaN     NaN  \n",
       "2017-01-06  71559900    NaN    NaN     NaN  \n",
       "2017-01-09  46939700    NaN    NaN     NaN  "
      ]
     },
     "execution_count": 45,
     "metadata": {},
     "output_type": "execute_result"
    }
   ],
   "source": [
    "df['MA_12'] = df['Adj Close'].rolling(window = 12).mean()\n",
    "df['MA_21'] = df['Adj Close'].rolling(window = 21).mean()\n",
    "df.loc[df['MA_12']>df['MA_21'], \"Signal\"] = 1\n",
    "df.loc[df['MA_12']<=df['MA_21'], \"Signal\"] = 0\n",
    "df['Signal'] = df['Signal'].shift(1)\n",
    "df.head(5)"
   ]
  },
  {
   "cell_type": "code",
   "execution_count": 46,
   "id": "872d0ed2-835f-4a89-adee-dbcfaa4f18c7",
   "metadata": {},
   "outputs": [],
   "source": [
    "#Add return\n",
    "df['lrets_bench'] = np.log(df['Adj Close']/df['Adj Close'].shift(1))\n",
    "df['lrets_prod_bench'] = df['lrets_bench'].cumsum()\n",
    "df['prod_bench'] = np.exp(df['lrets_prod_bench'])-1"
   ]
  },
  {
   "cell_type": "code",
   "execution_count": 47,
   "id": "a450272a-107e-4cb8-bc8c-b6bfe210e564",
   "metadata": {},
   "outputs": [
    {
     "data": {
      "text/html": [
       "<div>\n",
       "<style scoped>\n",
       "    .dataframe tbody tr th:only-of-type {\n",
       "        vertical-align: middle;\n",
       "    }\n",
       "\n",
       "    .dataframe tbody tr th {\n",
       "        vertical-align: top;\n",
       "    }\n",
       "\n",
       "    .dataframe thead th {\n",
       "        text-align: right;\n",
       "    }\n",
       "</style>\n",
       "<table border=\"1\" class=\"dataframe\">\n",
       "  <thead>\n",
       "    <tr style=\"text-align: right;\">\n",
       "      <th></th>\n",
       "      <th>Open</th>\n",
       "      <th>High</th>\n",
       "      <th>Low</th>\n",
       "      <th>Close</th>\n",
       "      <th>Adj Close</th>\n",
       "      <th>Volume</th>\n",
       "      <th>MA_12</th>\n",
       "      <th>MA_21</th>\n",
       "      <th>Signal</th>\n",
       "      <th>lrets_bench</th>\n",
       "      <th>lrets_prod_bench</th>\n",
       "      <th>prod_bench</th>\n",
       "      <th>lrets_strat</th>\n",
       "      <th>lrets_prod_strat</th>\n",
       "      <th>prod_strat</th>\n",
       "    </tr>\n",
       "    <tr>\n",
       "      <th>Date</th>\n",
       "      <th></th>\n",
       "      <th></th>\n",
       "      <th></th>\n",
       "      <th></th>\n",
       "      <th></th>\n",
       "      <th></th>\n",
       "      <th></th>\n",
       "      <th></th>\n",
       "      <th></th>\n",
       "      <th></th>\n",
       "      <th></th>\n",
       "      <th></th>\n",
       "      <th></th>\n",
       "      <th></th>\n",
       "      <th></th>\n",
       "    </tr>\n",
       "  </thead>\n",
       "  <tbody>\n",
       "    <tr>\n",
       "      <th>2024-03-26</th>\n",
       "      <td>521.229980</td>\n",
       "      <td>521.580017</td>\n",
       "      <td>518.400024</td>\n",
       "      <td>518.809998</td>\n",
       "      <td>518.809998</td>\n",
       "      <td>65463700</td>\n",
       "      <td>516.122709</td>\n",
       "      <td>512.815985</td>\n",
       "      <td>1.0</td>\n",
       "      <td>-0.001849</td>\n",
       "      <td>0.957225</td>\n",
       "      <td>1.604459</td>\n",
       "      <td>0.000921</td>\n",
       "      <td>0.260207</td>\n",
       "      <td>0.297199</td>\n",
       "    </tr>\n",
       "    <tr>\n",
       "      <th>2024-03-27</th>\n",
       "      <td>521.710022</td>\n",
       "      <td>523.210022</td>\n",
       "      <td>519.489990</td>\n",
       "      <td>523.169983</td>\n",
       "      <td>523.169983</td>\n",
       "      <td>82999800</td>\n",
       "      <td>517.245511</td>\n",
       "      <td>513.664087</td>\n",
       "      <td>1.0</td>\n",
       "      <td>0.008369</td>\n",
       "      <td>0.965594</td>\n",
       "      <td>1.626347</td>\n",
       "      <td>0.002871</td>\n",
       "      <td>0.263078</td>\n",
       "      <td>0.300929</td>\n",
       "    </tr>\n",
       "    <tr>\n",
       "      <th>2024-03-28</th>\n",
       "      <td>523.210022</td>\n",
       "      <td>524.609985</td>\n",
       "      <td>522.780029</td>\n",
       "      <td>523.070007</td>\n",
       "      <td>523.070007</td>\n",
       "      <td>96294900</td>\n",
       "      <td>517.903069</td>\n",
       "      <td>514.539234</td>\n",
       "      <td>1.0</td>\n",
       "      <td>-0.000191</td>\n",
       "      <td>0.965403</td>\n",
       "      <td>1.625845</td>\n",
       "      <td>NaN</td>\n",
       "      <td>NaN</td>\n",
       "      <td>NaN</td>\n",
       "    </tr>\n",
       "  </tbody>\n",
       "</table>\n",
       "</div>"
      ],
      "text/plain": [
       "                  Open        High         Low       Close   Adj Close   \n",
       "Date                                                                     \n",
       "2024-03-26  521.229980  521.580017  518.400024  518.809998  518.809998  \\\n",
       "2024-03-27  521.710022  523.210022  519.489990  523.169983  523.169983   \n",
       "2024-03-28  523.210022  524.609985  522.780029  523.070007  523.070007   \n",
       "\n",
       "              Volume       MA_12       MA_21  Signal  lrets_bench   \n",
       "Date                                                                \n",
       "2024-03-26  65463700  516.122709  512.815985     1.0    -0.001849  \\\n",
       "2024-03-27  82999800  517.245511  513.664087     1.0     0.008369   \n",
       "2024-03-28  96294900  517.903069  514.539234     1.0    -0.000191   \n",
       "\n",
       "            lrets_prod_bench  prod_bench  lrets_strat  lrets_prod_strat   \n",
       "Date                                                                      \n",
       "2024-03-26          0.957225    1.604459     0.000921          0.260207  \\\n",
       "2024-03-27          0.965594    1.626347     0.002871          0.263078   \n",
       "2024-03-28          0.965403    1.625845          NaN               NaN   \n",
       "\n",
       "            prod_strat  \n",
       "Date                    \n",
       "2024-03-26    0.297199  \n",
       "2024-03-27    0.300929  \n",
       "2024-03-28         NaN  "
      ]
     },
     "execution_count": 47,
     "metadata": {},
     "output_type": "execute_result"
    }
   ],
   "source": [
    "#Add Strategy Returns\n",
    "df['lrets_strat'] = np.log(df['Open'].shift(-1)/df['Open'])*df['Signal']\n",
    "df['lrets_prod_strat'] = df['lrets_strat'].cumsum()\n",
    "df['prod_strat'] = np.exp(df['lrets_prod_strat'])-1\n",
    "df.tail(3)"
   ]
  },
  {
   "cell_type": "code",
   "execution_count": 48,
   "id": "bae0735d-b21e-4a10-ac82-7aae201bce7f",
   "metadata": {},
   "outputs": [],
   "source": [
    "df.dropna(inplace = True)"
   ]
  },
  {
   "cell_type": "code",
   "execution_count": 50,
   "id": "986c0057-fcd3-4365-b997-212c0ae64211",
   "metadata": {},
   "outputs": [
    {
     "name": "stdout",
     "output_type": "stream",
     "text": [
      "1799\n"
     ]
    }
   ],
   "source": [
    "print(len(df))"
   ]
  },
  {
   "cell_type": "markdown",
   "id": "40db5ca3-d84a-438c-b370-84fc1e8ff09a",
   "metadata": {},
   "source": [
    "# Plot Results"
   ]
  },
  {
   "cell_type": "code",
   "execution_count": 52,
   "id": "539e0d64-d096-43d8-aa5d-a9df1eab288c",
   "metadata": {},
   "outputs": [
    {
     "data": {
      "image/png": "[encoded data removed]",
      "text/plain": [
       "<Figure size 1500x800 with 1 Axes>"
      ]
     },
     "metadata": {},
     "output_type": "display_data"
    }
   ],
   "source": [
    "#Show Graph\n",
    "fig = plt.figure(figsize=(15,8))\n",
    "plt.plot(df['prod_bench'])\n",
    "plt.plot(df['prod_strat'])\n",
    "plt.show()"
   ]
  },
  {
   "cell_type": "markdown",
   "id": "64f5f295-4fa9-47ac-808d-be14717df93a",
   "metadata": {},
   "source": [
    "# Metrics"
   ]
  },
  {
   "cell_type": "code",
   "execution_count": 54,
   "id": "00a09bf9-89fd-4aaa-a1cd-6392b0ffe228",
   "metadata": {},
   "outputs": [
    {
     "name": "stdout",
     "output_type": "stream",
     "text": [
      "Benchmark Returns:  1.6263465242517885\n",
      "Strategy Returns:  0.3009286987073625\n"
     ]
    }
   ],
   "source": [
    "# Calculate Returns\n",
    "print(\"Benchmark Returns: \", df['prod_bench'].iloc[-1])\n",
    "print(\"Strategy Returns: \", df['prod_strat'].iloc[-1])\n"
   ]
  },
  {
   "cell_type": "code",
   "execution_count": 65,
   "id": "fd0933c8-d8ec-4715-8241-2918751623ab",
   "metadata": {},
   "outputs": [],
   "source": [
    "#Calculate Sharpe\n",
    "\n",
    "def calculate_sharpe(returns):\n",
    "    N=255\n",
    "    rf = 0.01\n",
    "    SQRTN = np.sqrt(N)\n",
    "    mean = returns.mean()*N\n",
    "    sigma = returns.std()*SQRTN\n",
    "    sharpe = round((mean-rf)/sigma,3)\n",
    "    return sharpe\n",
    "\n"
   ]
  },
  {
   "cell_type": "code",
   "execution_count": 66,
   "id": "792383af-4c00-48b3-9251-86601c73b108",
   "metadata": {},
   "outputs": [
    {
     "name": "stdout",
     "output_type": "stream",
     "text": [
      "Benchmark Sharpe:  0.656\n",
      "Strategy Sharpe:  0.222\n"
     ]
    }
   ],
   "source": [
    "#Show Sharpe\n",
    "\n",
    "bench_sharpe = calculate_sharpe(df['lrets_bench'].values)\n",
    "strat_sharpe = calculate_sharpe(df['lrets_strat'].values)\n",
    "print(\"Benchmark Sharpe: \", bench_sharpe)\n",
    "print(\"Strategy Sharpe: \", strat_sharpe)"
   ]
  },
  {
   "cell_type": "code",
   "execution_count": null,
   "id": "ddddb9d7-cb8a-4ac9-be11-355d4326f4eb",
   "metadata": {},
   "outputs": [],
   "source": []
  },
  {
   "cell_type": "code",
   "execution_count": null,
   "id": "21563dfd-a13e-4f95-8de1-8cc9cd7de172",
   "metadata": {},
   "outputs": [],
   "source": []
  }
 ],
 "metadata": {
  "kernelspec": {
   "display_name": "Python 3 (ipykernel)",
   "language": "python",
   "name": "python3"
  },
  "language_info": {
   "codemirror_mode": {
    "name": "ipython",
    "version": 3
   },
   "file_extension": ".py",
   "mimetype": "text/x-python",
   "name": "python",
   "nbconvert_exporter": "python",
   "pygments_lexer": "ipython3",
   "version": "3.8.13"
  }
 },
 "nbformat": 4,
 "nbformat_minor": 5
}
