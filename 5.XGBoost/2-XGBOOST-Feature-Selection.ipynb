{
 "cells": [
  {
   "cell_type": "code",
   "execution_count": 2,
   "id": "0190c278-0401-4c0a-a6d0-1149b000956d",
   "metadata": {},
   "outputs": [],
   "source": [
    "import warnings\n",
    "warnings.simplefilter(action = 'ignore', category = FutureWarning)"
   ]
  },
  {
   "cell_type": "code",
   "execution_count": 3,
   "id": "5bb882c1-e199-4a20-a3e4-e9f7b0f68292",
   "metadata": {},
   "outputs": [],
   "source": [
    "import numpy as np\n",
    "import pandas as pd\n",
    "import matplotlib.pyplot as plt"
   ]
  },
  {
   "cell_type": "code",
   "execution_count": 4,
   "id": "be97f156-1bc3-49f4-8657-b917c35cf15b",
   "metadata": {},
   "outputs": [],
   "source": [
    "from sklearn.model_selection import train_test_split\n",
    "from xgboost import XGBClassifier\n",
    "from sklearn.model_selection import RandomizedSearchCV, cross_val_score\n",
    "from sklearn.model_selection import RepeatedStratifiedKFold\n",
    "from sklearn.metrics import precision_score"
   ]
  },
  {
   "cell_type": "code",
   "execution_count": 5,
   "id": "7a1f1e14-43d2-4d97-9b13-c5f9abd307ab",
   "metadata": {},
   "outputs": [
    {
     "data": {
      "text/html": [
       "<div>\n",
       "<style scoped>\n",
       "    .dataframe tbody tr th:only-of-type {\n",
       "        vertical-align: middle;\n",
       "    }\n",
       "\n",
       "    .dataframe tbody tr th {\n",
       "        vertical-align: top;\n",
       "    }\n",
       "\n",
       "    .dataframe thead th {\n",
       "        text-align: right;\n",
       "    }\n",
       "</style>\n",
       "<table border=\"1\" class=\"dataframe\">\n",
       "  <thead>\n",
       "    <tr style=\"text-align: right;\">\n",
       "      <th></th>\n",
       "      <th>Open</th>\n",
       "      <th>High</th>\n",
       "      <th>Low</th>\n",
       "      <th>Close</th>\n",
       "      <th>Volume</th>\n",
       "      <th>Returns</th>\n",
       "      <th>Range</th>\n",
       "      <th>Bench_C_Rets</th>\n",
       "      <th>RSI</th>\n",
       "      <th>RSI_Ret</th>\n",
       "      <th>...</th>\n",
       "      <th>MA_21</th>\n",
       "      <th>DOW</th>\n",
       "      <th>Roll_Rets</th>\n",
       "      <th>Avg_Range</th>\n",
       "      <th>Returns_T1</th>\n",
       "      <th>Range_T1</th>\n",
       "      <th>RSI_Ret_T1</th>\n",
       "      <th>Returns_T2</th>\n",
       "      <th>Range_T2</th>\n",
       "      <th>RSI_Ret_T2</th>\n",
       "    </tr>\n",
       "    <tr>\n",
       "      <th>Date</th>\n",
       "      <th></th>\n",
       "      <th></th>\n",
       "      <th></th>\n",
       "      <th></th>\n",
       "      <th></th>\n",
       "      <th></th>\n",
       "      <th></th>\n",
       "      <th></th>\n",
       "      <th></th>\n",
       "      <th></th>\n",
       "      <th></th>\n",
       "      <th></th>\n",
       "      <th></th>\n",
       "      <th></th>\n",
       "      <th></th>\n",
       "      <th></th>\n",
       "      <th></th>\n",
       "      <th></th>\n",
       "      <th></th>\n",
       "      <th></th>\n",
       "      <th></th>\n",
       "    </tr>\n",
       "  </thead>\n",
       "  <tbody>\n",
       "    <tr>\n",
       "      <th>2017-01-31</th>\n",
       "      <td>0.000878</td>\n",
       "      <td>0.053054</td>\n",
       "      <td>0.001615</td>\n",
       "      <td>970.403015</td>\n",
       "      <td>1.103895</td>\n",
       "      <td>0.054348</td>\n",
       "      <td>0.055442</td>\n",
       "      <td>-0.029463</td>\n",
       "      <td>60.205366</td>\n",
       "      <td>1.192634</td>\n",
       "      <td>...</td>\n",
       "      <td>885.613522</td>\n",
       "      <td>1</td>\n",
       "      <td>0.011408</td>\n",
       "      <td>0.057910</td>\n",
       "      <td>0.000964</td>\n",
       "      <td>0.003887</td>\n",
       "      <td>1.003974</td>\n",
       "      <td>-0.002272</td>\n",
       "      <td>0.004646</td>\n",
       "      <td>0.991144</td>\n",
       "    </tr>\n",
       "    <tr>\n",
       "      <th>2017-02-01</th>\n",
       "      <td>0.054272</td>\n",
       "      <td>0.017587</td>\n",
       "      <td>0.054056</td>\n",
       "      <td>989.023010</td>\n",
       "      <td>-0.087932</td>\n",
       "      <td>0.019188</td>\n",
       "      <td>0.018926</td>\n",
       "      <td>-0.009863</td>\n",
       "      <td>63.109498</td>\n",
       "      <td>1.048237</td>\n",
       "      <td>...</td>\n",
       "      <td>895.673808</td>\n",
       "      <td>2</td>\n",
       "      <td>0.007132</td>\n",
       "      <td>0.057381</td>\n",
       "      <td>0.054348</td>\n",
       "      <td>0.055442</td>\n",
       "      <td>1.192634</td>\n",
       "      <td>0.000964</td>\n",
       "      <td>0.003887</td>\n",
       "      <td>1.003974</td>\n",
       "    </tr>\n",
       "    <tr>\n",
       "      <th>2017-02-02</th>\n",
       "      <td>0.019630</td>\n",
       "      <td>0.024675</td>\n",
       "      <td>0.012855</td>\n",
       "      <td>1011.799988</td>\n",
       "      <td>-0.028572</td>\n",
       "      <td>0.023030</td>\n",
       "      <td>0.030816</td>\n",
       "      <td>0.012600</td>\n",
       "      <td>66.345006</td>\n",
       "      <td>1.051268</td>\n",
       "      <td>...</td>\n",
       "      <td>905.529332</td>\n",
       "      <td>3</td>\n",
       "      <td>0.008542</td>\n",
       "      <td>0.057675</td>\n",
       "      <td>0.019188</td>\n",
       "      <td>0.018926</td>\n",
       "      <td>1.048237</td>\n",
       "      <td>0.054348</td>\n",
       "      <td>0.055442</td>\n",
       "      <td>1.192634</td>\n",
       "    </tr>\n",
       "    <tr>\n",
       "      <th>2017-02-03</th>\n",
       "      <td>0.021676</td>\n",
       "      <td>0.020079</td>\n",
       "      <td>0.026005</td>\n",
       "      <td>1029.910034</td>\n",
       "      <td>0.380309</td>\n",
       "      <td>0.017899</td>\n",
       "      <td>0.024861</td>\n",
       "      <td>0.032145</td>\n",
       "      <td>68.695922</td>\n",
       "      <td>1.035435</td>\n",
       "      <td>...</td>\n",
       "      <td>915.335333</td>\n",
       "      <td>4</td>\n",
       "      <td>-0.079792</td>\n",
       "      <td>0.054832</td>\n",
       "      <td>0.023030</td>\n",
       "      <td>0.030816</td>\n",
       "      <td>1.051268</td>\n",
       "      <td>0.019188</td>\n",
       "      <td>0.018926</td>\n",
       "      <td>1.048237</td>\n",
       "    </tr>\n",
       "    <tr>\n",
       "      <th>2017-02-04</th>\n",
       "      <td>0.019645</td>\n",
       "      <td>0.011636</td>\n",
       "      <td>0.006314</td>\n",
       "      <td>1042.900024</td>\n",
       "      <td>-0.229603</td>\n",
       "      <td>0.012613</td>\n",
       "      <td>0.030281</td>\n",
       "      <td>0.045785</td>\n",
       "      <td>70.298572</td>\n",
       "      <td>1.023330</td>\n",
       "      <td>...</td>\n",
       "      <td>926.025239</td>\n",
       "      <td>5</td>\n",
       "      <td>0.055230</td>\n",
       "      <td>0.045565</td>\n",
       "      <td>0.017899</td>\n",
       "      <td>0.024861</td>\n",
       "      <td>1.035435</td>\n",
       "      <td>0.023030</td>\n",
       "      <td>0.030816</td>\n",
       "      <td>1.051268</td>\n",
       "    </tr>\n",
       "  </tbody>\n",
       "</table>\n",
       "<p>5 rows × 21 columns</p>\n",
       "</div>"
      ],
      "text/plain": [
       "                Open      High       Low        Close    Volume   Returns   \n",
       "Date                                                                        \n",
       "2017-01-31  0.000878  0.053054  0.001615   970.403015  1.103895  0.054348  \\\n",
       "2017-02-01  0.054272  0.017587  0.054056   989.023010 -0.087932  0.019188   \n",
       "2017-02-02  0.019630  0.024675  0.012855  1011.799988 -0.028572  0.023030   \n",
       "2017-02-03  0.021676  0.020079  0.026005  1029.910034  0.380309  0.017899   \n",
       "2017-02-04  0.019645  0.011636  0.006314  1042.900024 -0.229603  0.012613   \n",
       "\n",
       "               Range  Bench_C_Rets        RSI   RSI_Ret  ...       MA_21  DOW   \n",
       "Date                                                     ...                    \n",
       "2017-01-31  0.055442     -0.029463  60.205366  1.192634  ...  885.613522    1  \\\n",
       "2017-02-01  0.018926     -0.009863  63.109498  1.048237  ...  895.673808    2   \n",
       "2017-02-02  0.030816      0.012600  66.345006  1.051268  ...  905.529332    3   \n",
       "2017-02-03  0.024861      0.032145  68.695922  1.035435  ...  915.335333    4   \n",
       "2017-02-04  0.030281      0.045785  70.298572  1.023330  ...  926.025239    5   \n",
       "\n",
       "            Roll_Rets  Avg_Range  Returns_T1  Range_T1  RSI_Ret_T1   \n",
       "Date                                                                 \n",
       "2017-01-31   0.011408   0.057910    0.000964  0.003887    1.003974  \\\n",
       "2017-02-01   0.007132   0.057381    0.054348  0.055442    1.192634   \n",
       "2017-02-02   0.008542   0.057675    0.019188  0.018926    1.048237   \n",
       "2017-02-03  -0.079792   0.054832    0.023030  0.030816    1.051268   \n",
       "2017-02-04   0.055230   0.045565    0.017899  0.024861    1.035435   \n",
       "\n",
       "            Returns_T2  Range_T2  RSI_Ret_T2  \n",
       "Date                                          \n",
       "2017-01-31   -0.002272  0.004646    0.991144  \n",
       "2017-02-01    0.000964  0.003887    1.003974  \n",
       "2017-02-02    0.054348  0.055442    1.192634  \n",
       "2017-02-03    0.019188  0.018926    1.048237  \n",
       "2017-02-04    0.023030  0.030816    1.051268  \n",
       "\n",
       "[5 rows x 21 columns]"
      ]
     },
     "execution_count": 5,
     "metadata": {},
     "output_type": "execute_result"
    }
   ],
   "source": [
    "df = pd.read_csv('BTC-USD.csv')\n",
    "df.set_index('Date',inplace = True)\n",
    "df.head()"
   ]
  },
  {
   "cell_type": "markdown",
   "id": "e6bce2b9-30c2-441e-8a41-57988f544c7d",
   "metadata": {},
   "source": [
    "### Add Prediction Target"
   ]
  },
  {
   "cell_type": "code",
   "execution_count": 6,
   "id": "4cf43f9a-d709-448a-a8c0-127261bea1ff",
   "metadata": {},
   "outputs": [],
   "source": [
    "df.loc[df['Range'].shift(-1)>df['Avg_Range'], \"TARGET\"] = 1\n",
    "df.loc[df['Range'].shift(-1)<=df['Avg_Range'],\"TARGET\"] = 0"
   ]
  },
  {
   "cell_type": "code",
   "execution_count": 7,
   "id": "0a028fda-baa3-4273-b685-fe312ef1dce1",
   "metadata": {},
   "outputs": [
    {
     "name": "stdout",
     "output_type": "stream",
     "text": [
      "number of positive targets: 718\n",
      "number of negative targets: 1227\n"
     ]
    }
   ],
   "source": [
    "print(f'number of positive targets: {len(df[df.TARGET == 1])}')\n",
    "print(f'number of negative targets: {len(df[df.TARGET == 0])}')\n"
   ]
  },
  {
   "cell_type": "code",
   "execution_count": 8,
   "id": "4559f517-e94e-4118-8f54-4891e3934ffc",
   "metadata": {},
   "outputs": [
    {
     "data": {
      "text/plain": [
       "(array([1945]), array([21]))"
      ]
     },
     "execution_count": 8,
     "metadata": {},
     "output_type": "execute_result"
    }
   ],
   "source": [
    "#Check for NaNs\n",
    "nan_location = np.where(np.isnan(df))\n",
    "nan_location"
   ]
  },
  {
   "cell_type": "code",
   "execution_count": 9,
   "id": "7b764b0b-a51b-46cd-a57c-6b99a76f8aa2",
   "metadata": {},
   "outputs": [
    {
     "data": {
      "text/html": [
       "<div>\n",
       "<style scoped>\n",
       "    .dataframe tbody tr th:only-of-type {\n",
       "        vertical-align: middle;\n",
       "    }\n",
       "\n",
       "    .dataframe tbody tr th {\n",
       "        vertical-align: top;\n",
       "    }\n",
       "\n",
       "    .dataframe thead th {\n",
       "        text-align: right;\n",
       "    }\n",
       "</style>\n",
       "<table border=\"1\" class=\"dataframe\">\n",
       "  <thead>\n",
       "    <tr style=\"text-align: right;\">\n",
       "      <th></th>\n",
       "      <th>Open</th>\n",
       "      <th>High</th>\n",
       "      <th>Low</th>\n",
       "      <th>Close</th>\n",
       "      <th>Volume</th>\n",
       "      <th>Returns</th>\n",
       "      <th>Range</th>\n",
       "      <th>Bench_C_Rets</th>\n",
       "      <th>RSI</th>\n",
       "      <th>RSI_Ret</th>\n",
       "      <th>...</th>\n",
       "      <th>DOW</th>\n",
       "      <th>Roll_Rets</th>\n",
       "      <th>Avg_Range</th>\n",
       "      <th>Returns_T1</th>\n",
       "      <th>Range_T1</th>\n",
       "      <th>RSI_Ret_T1</th>\n",
       "      <th>Returns_T2</th>\n",
       "      <th>Range_T2</th>\n",
       "      <th>RSI_Ret_T2</th>\n",
       "      <th>TARGET</th>\n",
       "    </tr>\n",
       "    <tr>\n",
       "      <th>Date</th>\n",
       "      <th></th>\n",
       "      <th></th>\n",
       "      <th></th>\n",
       "      <th></th>\n",
       "      <th></th>\n",
       "      <th></th>\n",
       "      <th></th>\n",
       "      <th></th>\n",
       "      <th></th>\n",
       "      <th></th>\n",
       "      <th></th>\n",
       "      <th></th>\n",
       "      <th></th>\n",
       "      <th></th>\n",
       "      <th></th>\n",
       "      <th></th>\n",
       "      <th></th>\n",
       "      <th></th>\n",
       "      <th></th>\n",
       "      <th></th>\n",
       "      <th></th>\n",
       "    </tr>\n",
       "  </thead>\n",
       "  <tbody>\n",
       "    <tr>\n",
       "      <th>2022-05-26</th>\n",
       "      <td>-0.002980</td>\n",
       "      <td>-0.010731</td>\n",
       "      <td>-0.038218</td>\n",
       "      <td>29267.224609</td>\n",
       "      <td>0.336031</td>\n",
       "      <td>-0.009984</td>\n",
       "      <td>0.055632</td>\n",
       "      <td>33.189608</td>\n",
       "      <td>38.165993</td>\n",
       "      <td>0.977232</td>\n",
       "      <td>...</td>\n",
       "      <td>3</td>\n",
       "      <td>-0.239867</td>\n",
       "      <td>0.057147</td>\n",
       "      <td>-0.003144</td>\n",
       "      <td>0.026300</td>\n",
       "      <td>0.993166</td>\n",
       "      <td>0.019130</td>\n",
       "      <td>0.034313</td>\n",
       "      <td>1.065192</td>\n",
       "      <td>0.0</td>\n",
       "    </tr>\n",
       "    <tr>\n",
       "      <th>2022-05-27</th>\n",
       "      <td>-0.010608</td>\n",
       "      <td>-0.016331</td>\n",
       "      <td>0.002290</td>\n",
       "      <td>28627.574219</td>\n",
       "      <td>-0.005230</td>\n",
       "      <td>-0.021856</td>\n",
       "      <td>0.036020</td>\n",
       "      <td>32.436595</td>\n",
       "      <td>36.240181</td>\n",
       "      <td>0.949541</td>\n",
       "      <td>...</td>\n",
       "      <td>4</td>\n",
       "      <td>-0.291202</td>\n",
       "      <td>0.057119</td>\n",
       "      <td>-0.009984</td>\n",
       "      <td>0.055632</td>\n",
       "      <td>0.977232</td>\n",
       "      <td>-0.003144</td>\n",
       "      <td>0.026300</td>\n",
       "      <td>0.993166</td>\n",
       "      <td>0.0</td>\n",
       "    </tr>\n",
       "    <tr>\n",
       "      <th>2022-05-28</th>\n",
       "      <td>-0.021487</td>\n",
       "      <td>-0.018129</td>\n",
       "      <td>0.008047</td>\n",
       "      <td>28814.900391</td>\n",
       "      <td>-0.029042</td>\n",
       "      <td>0.006544</td>\n",
       "      <td>0.009117</td>\n",
       "      <td>32.894788</td>\n",
       "      <td>37.238957</td>\n",
       "      <td>1.027560</td>\n",
       "      <td>...</td>\n",
       "      <td>5</td>\n",
       "      <td>-0.298233</td>\n",
       "      <td>0.056286</td>\n",
       "      <td>-0.021856</td>\n",
       "      <td>0.036020</td>\n",
       "      <td>0.949541</td>\n",
       "      <td>-0.009984</td>\n",
       "      <td>0.055632</td>\n",
       "      <td>0.977232</td>\n",
       "      <td>0.0</td>\n",
       "    </tr>\n",
       "    <tr>\n",
       "      <th>2022-05-29</th>\n",
       "      <td>0.013879</td>\n",
       "      <td>0.023707</td>\n",
       "      <td>0.010035</td>\n",
       "      <td>29445.957031</td>\n",
       "      <td>-0.490594</td>\n",
       "      <td>0.021900</td>\n",
       "      <td>0.022777</td>\n",
       "      <td>33.634047</td>\n",
       "      <td>40.613855</td>\n",
       "      <td>1.090628</td>\n",
       "      <td>...</td>\n",
       "      <td>6</td>\n",
       "      <td>-0.247068</td>\n",
       "      <td>0.055605</td>\n",
       "      <td>0.006544</td>\n",
       "      <td>0.009117</td>\n",
       "      <td>1.027560</td>\n",
       "      <td>-0.021856</td>\n",
       "      <td>0.036020</td>\n",
       "      <td>0.949541</td>\n",
       "      <td>1.0</td>\n",
       "    </tr>\n",
       "    <tr>\n",
       "      <th>2022-05-30</th>\n",
       "      <td>0.014593</td>\n",
       "      <td>0.083111</td>\n",
       "      <td>0.016035</td>\n",
       "      <td>31726.390625</td>\n",
       "      <td>1.170788</td>\n",
       "      <td>0.077445</td>\n",
       "      <td>0.090298</td>\n",
       "      <td>36.313300</td>\n",
       "      <td>50.890862</td>\n",
       "      <td>1.253042</td>\n",
       "      <td>...</td>\n",
       "      <td>0</td>\n",
       "      <td>-0.146443</td>\n",
       "      <td>0.057666</td>\n",
       "      <td>0.021900</td>\n",
       "      <td>0.022777</td>\n",
       "      <td>1.090628</td>\n",
       "      <td>0.006544</td>\n",
       "      <td>0.009117</td>\n",
       "      <td>1.027560</td>\n",
       "      <td>0.0</td>\n",
       "    </tr>\n",
       "  </tbody>\n",
       "</table>\n",
       "<p>5 rows × 22 columns</p>\n",
       "</div>"
      ],
      "text/plain": [
       "                Open      High       Low         Close    Volume   Returns   \n",
       "Date                                                                         \n",
       "2022-05-26 -0.002980 -0.010731 -0.038218  29267.224609  0.336031 -0.009984  \\\n",
       "2022-05-27 -0.010608 -0.016331  0.002290  28627.574219 -0.005230 -0.021856   \n",
       "2022-05-28 -0.021487 -0.018129  0.008047  28814.900391 -0.029042  0.006544   \n",
       "2022-05-29  0.013879  0.023707  0.010035  29445.957031 -0.490594  0.021900   \n",
       "2022-05-30  0.014593  0.083111  0.016035  31726.390625  1.170788  0.077445   \n",
       "\n",
       "               Range  Bench_C_Rets        RSI   RSI_Ret  ...  DOW  Roll_Rets   \n",
       "Date                                                     ...                   \n",
       "2022-05-26  0.055632     33.189608  38.165993  0.977232  ...    3  -0.239867  \\\n",
       "2022-05-27  0.036020     32.436595  36.240181  0.949541  ...    4  -0.291202   \n",
       "2022-05-28  0.009117     32.894788  37.238957  1.027560  ...    5  -0.298233   \n",
       "2022-05-29  0.022777     33.634047  40.613855  1.090628  ...    6  -0.247068   \n",
       "2022-05-30  0.090298     36.313300  50.890862  1.253042  ...    0  -0.146443   \n",
       "\n",
       "            Avg_Range  Returns_T1  Range_T1  RSI_Ret_T1  Returns_T2  Range_T2   \n",
       "Date                                                                            \n",
       "2022-05-26   0.057147   -0.003144  0.026300    0.993166    0.019130  0.034313  \\\n",
       "2022-05-27   0.057119   -0.009984  0.055632    0.977232   -0.003144  0.026300   \n",
       "2022-05-28   0.056286   -0.021856  0.036020    0.949541   -0.009984  0.055632   \n",
       "2022-05-29   0.055605    0.006544  0.009117    1.027560   -0.021856  0.036020   \n",
       "2022-05-30   0.057666    0.021900  0.022777    1.090628    0.006544  0.009117   \n",
       "\n",
       "            RSI_Ret_T2  TARGET  \n",
       "Date                            \n",
       "2022-05-26    1.065192     0.0  \n",
       "2022-05-27    0.993166     0.0  \n",
       "2022-05-28    0.977232     0.0  \n",
       "2022-05-29    0.949541     1.0  \n",
       "2022-05-30    1.027560     0.0  \n",
       "\n",
       "[5 rows x 22 columns]"
      ]
     },
     "execution_count": 9,
     "metadata": {},
     "output_type": "execute_result"
    }
   ],
   "source": [
    "#Fill NA\n",
    "df['TARGET'].fillna(0,inplace = True)\n",
    "df.tail()"
   ]
  },
  {
   "cell_type": "markdown",
   "id": "52b344eb-c902-4ac0-81fd-3f88aa30a4b5",
   "metadata": {},
   "source": [
    "### Split the Data"
   ]
  },
  {
   "cell_type": "code",
   "execution_count": 10,
   "id": "ba7685ef-eea5-426f-bfd7-0171c79db47f",
   "metadata": {},
   "outputs": [],
   "source": [
    "df_tts = df.copy()\n",
    "df_tts.drop(columns = ['Close','Bench_C_Rets','Open','High','Low'],inplace = True)"
   ]
  },
  {
   "cell_type": "code",
   "execution_count": 11,
   "id": "42e4694e-7392-46d4-bf9d-f2b857f9857f",
   "metadata": {},
   "outputs": [],
   "source": [
    "X = df_tts.iloc[:,:-1]\n",
    "y = df_tts.iloc[:,-1]"
   ]
  },
  {
   "cell_type": "code",
   "execution_count": 12,
   "id": "5d58a899-018b-40c7-b014-2a1033c0dc3d",
   "metadata": {},
   "outputs": [
    {
     "name": "stdout",
     "output_type": "stream",
     "text": [
      "Shape of X_train : (1556, 16)\n",
      "Shape of y_train : (1556,)\n"
     ]
    }
   ],
   "source": [
    "X_train,X_test,y_train,y_test = train_test_split(X,y,test_size = 0.2,random_state = 42)\n",
    "print(f'Shape of X_train : {X_train.shape}')\n",
    "print(f'Shape of y_train : {y_train.shape}')"
   ]
  },
  {
   "cell_type": "markdown",
   "id": "58adb695-4e8b-42c9-924b-06d35a3c1885",
   "metadata": {},
   "source": [
    "### Build Initial Model"
   ]
  },
  {
   "cell_type": "code",
   "execution_count": 13,
   "id": "092b70af-76b1-45c8-a6a5-4fe45974203c",
   "metadata": {},
   "outputs": [],
   "source": [
    "is_binary = True\n",
    "is_optimize_for_precision = True"
   ]
  },
  {
   "cell_type": "code",
   "execution_count": 14,
   "id": "934b4a7d-383f-49f2-be5f-362a4159b5fc",
   "metadata": {},
   "outputs": [],
   "source": [
    "if is_binary:\n",
    "    objective = 'binary:logistic'\n",
    "    eval_metric = 'logloss'\n",
    "    eval_metric_list = ['error','logloss', eval_metric]\n",
    "else:\n",
    "    objective = 'multi:softmax'\n",
    "    eval_metric = 'mlogloss'\n",
    "    eval_metric_list = ['merror','mlogloss',eval_metric]"
   ]
  },
  {
   "cell_type": "code",
   "execution_count": 15,
   "id": "6955e5f4-28e7-42de-8c2c-49e9e793f37c",
   "metadata": {},
   "outputs": [],
   "source": [
    "if is_binary and is_optimize_for_precision:\n",
    "    eval_metric = 'aucpr'\n",
    "    scoring = 'precision'\n",
    "elif is_binary and not is_optimise_for_precision:\n",
    "    eval_metric = 'auc'\n",
    "    scoring = 'f1'\n",
    "else:\n",
    "    scoring = 'accuracy'"
   ]
  },
  {
   "cell_type": "code",
   "execution_count": 16,
   "id": "1a2e289d-2462-41a5-a81b-6624bdd140fb",
   "metadata": {},
   "outputs": [],
   "source": [
    "#Build First Clasifier Model 0\n",
    "classifier_0 = XGBClassifier(\n",
    "    objective = objective,\n",
    "    booster = 'gbtree',\n",
    "    eval_metric = eval_metric,\n",
    "    subsample = 0.8,\n",
    "    colsample_bytree = 1,\n",
    "    random_state = 1,\n",
    "    use_label_encoder = False\n",
    ")"
   ]
  },
  {
   "cell_type": "markdown",
   "id": "33bf7022-e889-42a8-b8f3-dd7e148c99cf",
   "metadata": {},
   "source": [
    "### Find Hyperparameters"
   ]
  },
  {
   "cell_type": "code",
   "execution_count": 17,
   "id": "fe39d1f4-7b11-40d7-abbc-eb3a0f93c7c4",
   "metadata": {},
   "outputs": [],
   "source": [
    "param_grid = {\n",
    "    'gamma' : [0,0.1,0.2,0.5,1,1.5,2,3,6,12,20],\n",
    "    'learning_rate' : [0.01,0.02,0.03,0.05,0.1,0.2,0.3,0.5,0.7,0.8],\n",
    "    'max_depth': [1,2,3,4,5,6,8,12],\n",
    "    'n_estimators': [25,50,65,80,100,115,200]\n",
    "}"
   ]
  },
  {
   "cell_type": "code",
   "execution_count": 18,
   "id": "2df61ee5-fa5b-488e-a926-c4b95140d004",
   "metadata": {},
   "outputs": [],
   "source": [
    "#Perform Random Search for Best Hyper params\n",
    "\n",
    "grid_search = RandomizedSearchCV(estimator = classifier_0, param_distributions = param_grid, scoring = scoring)\n"
   ]
  },
  {
   "cell_type": "code",
   "execution_count": 19,
   "id": "abed8298-be50-46f9-821f-251995626be3",
   "metadata": {},
   "outputs": [],
   "source": [
    "best_model = grid_search.fit(X_train,y_train)\n"
   ]
  },
  {
   "cell_type": "code",
   "execution_count": 20,
   "id": "3ed0a220-daf8-488c-85b1-18243c41fed7",
   "metadata": {},
   "outputs": [
    {
     "name": "stdout",
     "output_type": "stream",
     "text": [
      "Recommended Params >> ne: 80 lr: 0.03 md: 4 gm: 20\n"
     ]
    }
   ],
   "source": [
    "hyperparams = best_model.best_params_\n",
    "ne = hyperparams['n_estimators']\n",
    "lr = hyperparams['learning_rate']\n",
    "md = hyperparams['max_depth']\n",
    "gm = hyperparams['gamma']\n",
    "\n",
    "print(\"Recommended Params >>\", f\"ne: {ne}\", f\"lr: {lr}\", f\"md: {md}\",f\"gm: {gm}\")"
   ]
  },
  {
   "cell_type": "code",
   "execution_count": 21,
   "id": "deb78e3d-4128-4292-bb2c-a6722f37eb67",
   "metadata": {},
   "outputs": [],
   "source": [
    "classifier_1 = XGBClassifier(\n",
    "    objective = objective,\n",
    "    booster = 'gbtree',\n",
    "    eval_metric = eval_metric,\n",
    "    n_estimators = ne,\n",
    "    learning_rate = lr,\n",
    "    max_depth = md,\n",
    "    gamma = gm,\n",
    "    subsample = 0.8,\n",
    "    colsample_bytree = 1,\n",
    "    random_state = 1,\n",
    "    use_label_encoder = False\n",
    ")"
   ]
  },
  {
   "cell_type": "code",
   "execution_count": 22,
   "id": "68ff55fe-7223-4eff-b6e2-25703f68f66f",
   "metadata": {},
   "outputs": [
    {
     "data": {
      "text/html": [
       "<style>#sk-container-id-1 {color: black;background-color: white;}#sk-container-id-1 pre{padding: 0;}#sk-container-id-1 div.sk-toggleable {background-color: white;}#sk-container-id-1 label.sk-toggleable__label {cursor: pointer;display: block;width: 100%;margin-bottom: 0;padding: 0.3em;box-sizing: border-box;text-align: center;}#sk-container-id-1 label.sk-toggleable__label-arrow:before {content: \"▸\";float: left;margin-right: 0.25em;color: #696969;}#sk-container-id-1 label.sk-toggleable__label-arrow:hover:before {color: black;}#sk-container-id-1 div.sk-estimator:hover label.sk-toggleable__label-arrow:before {color: black;}#sk-container-id-1 div.sk-toggleable__content {max-height: 0;max-width: 0;overflow: hidden;text-align: left;background-color: #f0f8ff;}#sk-container-id-1 div.sk-toggleable__content pre {margin: 0.2em;color: black;border-radius: 0.25em;background-color: #f0f8ff;}#sk-container-id-1 input.sk-toggleable__control:checked~div.sk-toggleable__content {max-height: 200px;max-width: 100%;overflow: auto;}#sk-container-id-1 input.sk-toggleable__control:checked~label.sk-toggleable__label-arrow:before {content: \"▾\";}#sk-container-id-1 div.sk-estimator input.sk-toggleable__control:checked~label.sk-toggleable__label {background-color: #d4ebff;}#sk-container-id-1 div.sk-label input.sk-toggleable__control:checked~label.sk-toggleable__label {background-color: #d4ebff;}#sk-container-id-1 input.sk-hidden--visually {border: 0;clip: rect(1px 1px 1px 1px);clip: rect(1px, 1px, 1px, 1px);height: 1px;margin: -1px;overflow: hidden;padding: 0;position: absolute;width: 1px;}#sk-container-id-1 div.sk-estimator {font-family: monospace;background-color: #f0f8ff;border: 1px dotted black;border-radius: 0.25em;box-sizing: border-box;margin-bottom: 0.5em;}#sk-container-id-1 div.sk-estimator:hover {background-color: #d4ebff;}#sk-container-id-1 div.sk-parallel-item::after {content: \"\";width: 100%;border-bottom: 1px solid gray;flex-grow: 1;}#sk-container-id-1 div.sk-label:hover label.sk-toggleable__label {background-color: #d4ebff;}#sk-container-id-1 div.sk-serial::before {content: \"\";position: absolute;border-left: 1px solid gray;box-sizing: border-box;top: 0;bottom: 0;left: 50%;z-index: 0;}#sk-container-id-1 div.sk-serial {display: flex;flex-direction: column;align-items: center;background-color: white;padding-right: 0.2em;padding-left: 0.2em;position: relative;}#sk-container-id-1 div.sk-item {position: relative;z-index: 1;}#sk-container-id-1 div.sk-parallel {display: flex;align-items: stretch;justify-content: center;background-color: white;position: relative;}#sk-container-id-1 div.sk-item::before, #sk-container-id-1 div.sk-parallel-item::before {content: \"\";position: absolute;border-left: 1px solid gray;box-sizing: border-box;top: 0;bottom: 0;left: 50%;z-index: -1;}#sk-container-id-1 div.sk-parallel-item {display: flex;flex-direction: column;z-index: 1;position: relative;background-color: white;}#sk-container-id-1 div.sk-parallel-item:first-child::after {align-self: flex-end;width: 50%;}#sk-container-id-1 div.sk-parallel-item:last-child::after {align-self: flex-start;width: 50%;}#sk-container-id-1 div.sk-parallel-item:only-child::after {width: 0;}#sk-container-id-1 div.sk-dashed-wrapped {border: 1px dashed gray;margin: 0 0.4em 0.5em 0.4em;box-sizing: border-box;padding-bottom: 0.4em;background-color: white;}#sk-container-id-1 div.sk-label label {font-family: monospace;font-weight: bold;display: inline-block;line-height: 1.2em;}#sk-container-id-1 div.sk-label-container {text-align: center;}#sk-container-id-1 div.sk-container {/* jupyter's `normalize.less` sets `[hidden] { display: none; }` but bootstrap.min.css set `[hidden] { display: none !important; }` so we also need the `!important` here to be able to override the default hidden behavior on the sphinx rendered scikit-learn.org. See: https://github.com/scikit-learn/scikit-learn/issues/21755 */display: inline-block !important;position: relative;}#sk-container-id-1 div.sk-text-repr-fallback {display: none;}</style><div id=\"sk-container-id-1\" class=\"sk-top-container\"><div class=\"sk-text-repr-fallback\"><pre>XGBClassifier(base_score=None, booster=&#x27;gbtree&#x27;, callbacks=None,\n",
       "              colsample_bylevel=None, colsample_bynode=None, colsample_bytree=1,\n",
       "              device=None, early_stopping_rounds=None, enable_categorical=False,\n",
       "              eval_metric=&#x27;aucpr&#x27;, feature_types=None, gamma=20,\n",
       "              grow_policy=None, importance_type=None,\n",
       "              interaction_constraints=None, learning_rate=0.03, max_bin=None,\n",
       "              max_cat_threshold=None, max_cat_to_onehot=None,\n",
       "              max_delta_step=None, max_depth=4, max_leaves=None,\n",
       "              min_child_weight=None, missing=nan, monotone_constraints=None,\n",
       "              multi_strategy=None, n_estimators=80, n_jobs=None,\n",
       "              num_parallel_tree=None, random_state=1, ...)</pre><b>In a Jupyter environment, please rerun this cell to show the HTML representation or trust the notebook. <br />On GitHub, the HTML representation is unable to render, please try loading this page with nbviewer.org.</b></div><div class=\"sk-container\" hidden><div class=\"sk-item\"><div class=\"sk-estimator sk-toggleable\"><input class=\"sk-toggleable__control sk-hidden--visually\" id=\"sk-estimator-id-1\" type=\"checkbox\" checked><label for=\"sk-estimator-id-1\" class=\"sk-toggleable__label sk-toggleable__label-arrow\">XGBClassifier</label><div class=\"sk-toggleable__content\"><pre>XGBClassifier(base_score=None, booster=&#x27;gbtree&#x27;, callbacks=None,\n",
       "              colsample_bylevel=None, colsample_bynode=None, colsample_bytree=1,\n",
       "              device=None, early_stopping_rounds=None, enable_categorical=False,\n",
       "              eval_metric=&#x27;aucpr&#x27;, feature_types=None, gamma=20,\n",
       "              grow_policy=None, importance_type=None,\n",
       "              interaction_constraints=None, learning_rate=0.03, max_bin=None,\n",
       "              max_cat_threshold=None, max_cat_to_onehot=None,\n",
       "              max_delta_step=None, max_depth=4, max_leaves=None,\n",
       "              min_child_weight=None, missing=nan, monotone_constraints=None,\n",
       "              multi_strategy=None, n_estimators=80, n_jobs=None,\n",
       "              num_parallel_tree=None, random_state=1, ...)</pre></div></div></div></div></div>"
      ],
      "text/plain": [
       "XGBClassifier(base_score=None, booster='gbtree', callbacks=None,\n",
       "              colsample_bylevel=None, colsample_bynode=None, colsample_bytree=1,\n",
       "              device=None, early_stopping_rounds=None, enable_categorical=False,\n",
       "              eval_metric='aucpr', feature_types=None, gamma=20,\n",
       "              grow_policy=None, importance_type=None,\n",
       "              interaction_constraints=None, learning_rate=0.03, max_bin=None,\n",
       "              max_cat_threshold=None, max_cat_to_onehot=None,\n",
       "              max_delta_step=None, max_depth=4, max_leaves=None,\n",
       "              min_child_weight=None, missing=nan, monotone_constraints=None,\n",
       "              multi_strategy=None, n_estimators=80, n_jobs=None,\n",
       "              num_parallel_tree=None, random_state=1, ...)"
      ]
     },
     "execution_count": 22,
     "metadata": {},
     "output_type": "execute_result"
    }
   ],
   "source": [
    "eval_set = [(X_train,y_train)]\n",
    "classifier_1.fit(\n",
    "    X_train,\n",
    "    y_train,\n",
    "    eval_set = eval_set,\n",
    "    verbose = False\n",
    ")"
   ]
  },
  {
   "cell_type": "markdown",
   "id": "7a25a431-f8f1-4faf-98b7-3323c4d0d603",
   "metadata": {},
   "source": [
    "### Performance Evaluation (Quick Overview)"
   ]
  },
  {
   "cell_type": "code",
   "execution_count": 25,
   "id": "04dc524e-c176-4c5b-ba23-fa84af5dd1e7",
   "metadata": {},
   "outputs": [
    {
     "name": "stdout",
     "output_type": "stream",
     "text": [
      "Training Preds: \n",
      " [0 0 0 0 0]\n"
     ]
    }
   ],
   "source": [
    "#Get predictions for training data\n",
    "train_yhat = classifier_1.predict(X_train)\n",
    "print(\"Training Preds: \\n\", train_yhat[:5])"
   ]
  },
  {
   "cell_type": "code",
   "execution_count": 36,
   "id": "ca96b76b-8488-4cbf-8ea8-a91dd53f7b15",
   "metadata": {},
   "outputs": [
    {
     "data": {
      "text/plain": [
       "{0, 1}"
      ]
     },
     "execution_count": 36,
     "metadata": {},
     "output_type": "execute_result"
    }
   ],
   "source": [
    "set(train_yhat)"
   ]
  },
  {
   "cell_type": "code",
   "execution_count": 48,
   "id": "b4f15790-a856-4006-9119-d7cc4298eb92",
   "metadata": {},
   "outputs": [],
   "source": [
    "#Set K-Fold Cross Validation Levels\n",
    "cv = RepeatedStratifiedKFold(n_splits = 5, n_repeats = 3, random_state = 1)"
   ]
  },
  {
   "cell_type": "code",
   "execution_count": 49,
   "id": "b591f34a-5a23-4771-8e24-3bdb4fbd92b8",
   "metadata": {},
   "outputs": [],
   "source": [
    "#Training Results\n",
    "train_results = cross_val_score(classifier_1,X_train,y_train,scoring = scoring,cv=cv,n_jobs =1)"
   ]
  },
  {
   "cell_type": "code",
   "execution_count": 51,
   "id": "8795b9e2-f874-4184-bc93-5e613e0509fc",
   "metadata": {},
   "outputs": [
    {
     "name": "stdout",
     "output_type": "stream",
     "text": [
      "Average Accuracy K-Fold:  0.72\n",
      "Std Deviation K-Fold:  0.09\n"
     ]
    }
   ],
   "source": [
    "#Brief Review of Training Results\n",
    "print(\"Average Accuracy K-Fold: \", round(train_results.mean(),2))\n",
    "print(\"Std Deviation K-Fold: \", round(train_results.std(),2))\n"
   ]
  },
  {
   "cell_type": "code",
   "execution_count": 54,
   "id": "2080adee-ce8d-4ea6-8c5e-4bea876bbe31",
   "metadata": {},
   "outputs": [
    {
     "name": "stdout",
     "output_type": "stream",
     "text": [
      "Precision Score 0:  0.68\n",
      "Precision Score 0:  0.773\n"
     ]
    }
   ],
   "source": [
    "print(\"Precision Score 0: \", round(precision_score(y_train,train_yhat,average = None)[0],3))\n",
    "print(\"Precision Score 0: \", round(precision_score(y_train,train_yhat,average = None)[1],3))"
   ]
  },
  {
   "cell_type": "markdown",
   "id": "9e27e001-9e8e-4947-b6a8-3e3629639b42",
   "metadata": {},
   "source": [
    "### FEature Selection"
   ]
  },
  {
   "cell_type": "code",
   "execution_count": 55,
   "id": "83fe58b8-2242-48c0-9325-d955ddbfdf4d",
   "metadata": {},
   "outputs": [
    {
     "data": {
      "image/png": "[encoded data removed]",
      "text/plain": [
       "<Figure size 2200x500 with 1 Axes>"
      ]
     },
     "metadata": {},
     "output_type": "display_data"
    }
   ],
   "source": [
    "#Plot Feature Importances\n",
    "fig = plt.figure(figsize = (22,5))\n",
    "importance_labels = X.columns\n",
    "importance_features = classifier_1.feature_importances_\n",
    "plt.bar(importance_labels,importance_features)\n",
    "plt.show()"
   ]
  },
  {
   "cell_type": "code",
   "execution_count": 58,
   "id": "6f94de4f-6af0-4f45-ad0f-275fb877a403",
   "metadata": {},
   "outputs": [],
   "source": [
    "#Select Best Features\n",
    "mean_feature_importance = importance_features.mean()\n",
    "i = 0 \n",
    "recommended_feature_labels = []\n",
    "recommended_feature_score = []\n",
    "for fi in importance_features:\n",
    "    if fi>mean_feature_importance:\n",
    "        recommended_feature_labels.append(importance_labels[i])\n",
    "        recommended_feature_score.append(fi)\n",
    "    i+=1\n",
    "        "
   ]
  },
  {
   "cell_type": "code",
   "execution_count": 59,
   "id": "872baa8e-fee7-4a30-ae7c-ab69d7e88e17",
   "metadata": {},
   "outputs": [
    {
     "data": {
      "image/png": "[encoded data removed]",
      "text/plain": [
       "<Figure size 1500x500 with 1 Axes>"
      ]
     },
     "metadata": {},
     "output_type": "display_data"
    }
   ],
   "source": [
    "#Plot Recommended Features\n",
    "fig = plt.figure(figsize = (15,5))\n",
    "plt.bar(recommended_feature_labels,recommended_feature_score)\n",
    "plt.show()"
   ]
  },
  {
   "cell_type": "code",
   "execution_count": null,
   "id": "dd7add3a-46ef-4384-b736-187f7be7a78b",
   "metadata": {},
   "outputs": [],
   "source": []
  }
 ],
 "metadata": {
  "kernelspec": {
   "display_name": "Python 3 (ipykernel)",
   "language": "python",
   "name": "python3"
  },
  "language_info": {
   "codemirror_mode": {
    "name": "ipython",
    "version": 3
   },
   "file_extension": ".py",
   "mimetype": "text/x-python",
   "name": "python",
   "nbconvert_exporter": "python",
   "pygments_lexer": "ipython3",
   "version": "3.8.13"
  }
 },
 "nbformat": 4,
 "nbformat_minor": 5
}
